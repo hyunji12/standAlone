{
  "nbformat": 4,
  "nbformat_minor": 0,
  "metadata": {
    "colab": {
      "name": "st15.ipynb",
      "provenance": [],
      "collapsed_sections": []
    },
    "kernelspec": {
      "name": "python3",
      "display_name": "Python 3"
    },
    "language_info": {
      "name": "python"
    },
    "accelerator": "GPU"
  },
  "cells": [
    {
      "cell_type": "markdown",
      "source": [
        "### Pytorch 설치"
      ],
      "metadata": {
        "id": "d8bGGvp2CrcF"
      }
    },
    {
      "cell_type": "code",
      "source": [
        "'''\n",
        "!pip install -q torch==1.0.0 torchvision\n",
        "import torch\n",
        "print(torch.__version__)\n",
        "'''"
      ],
      "metadata": {
        "colab": {
          "base_uri": "https://localhost:8080/"
        },
        "id": "QYvtRRA-wsqc",
        "outputId": "645d9324-1f5a-4a92-d288-70c226923d39"
      },
      "execution_count": null,
      "outputs": [
        {
          "output_type": "stream",
          "name": "stdout",
          "text": [
            "\u001b[K     |████████████████████████████████| 591.8 MB 671 bytes/s \n",
            "\u001b[K     |████████████████████████████████| 21.0 MB 1.3 MB/s \n",
            "\u001b[K     |████████████████████████████████| 23.2 MB 1.7 MB/s \n",
            "\u001b[K     |████████████████████████████████| 23.3 MB 49.2 MB/s \n",
            "\u001b[K     |████████████████████████████████| 23.3 MB 38.3 MB/s \n",
            "\u001b[K     |████████████████████████████████| 22.1 MB 60.5 MB/s \n",
            "\u001b[K     |████████████████████████████████| 22.1 MB 1.3 MB/s \n",
            "\u001b[K     |████████████████████████████████| 17.4 MB 608 kB/s \n",
            "\u001b[K     |████████████████████████████████| 17.3 MB 112 kB/s \n",
            "\u001b[K     |████████████████████████████████| 12.8 MB 18 kB/s \n",
            "\u001b[K     |████████████████████████████████| 12.7 MB 32.7 MB/s \n",
            "\u001b[K     |████████████████████████████████| 11.8 MB 23.8 MB/s \n",
            "\u001b[K     |████████████████████████████████| 5.9 MB 30.3 MB/s \n",
            "\u001b[K     |████████████████████████████████| 6.6 MB 21.0 MB/s \n",
            "\u001b[K     |████████████████████████████████| 6.6 MB 20.6 MB/s \n",
            "\u001b[K     |████████████████████████████████| 4.0 MB 34.8 MB/s \n",
            "\u001b[K     |████████████████████████████████| 10.2 MB 31.4 MB/s \n",
            "\u001b[K     |████████████████████████████████| 10.1 MB 25.0 MB/s \n",
            "\u001b[K     |████████████████████████████████| 8.8 MB 21.1 MB/s \n",
            "\u001b[K     |████████████████████████████████| 2.6 MB 33.9 MB/s \n",
            "\u001b[K     |████████████████████████████████| 64 kB 2.6 MB/s \n",
            "\u001b[31mERROR: pip's dependency resolver does not currently take into account all the packages that are installed. This behaviour is the source of the following dependency conflicts.\n",
            "torchtext 0.11.0 requires torch==1.10.0, but you have torch 1.0.0 which is incompatible.\n",
            "torchaudio 0.10.0+cu111 requires torch==1.10.0, but you have torch 1.0.0 which is incompatible.\u001b[0m\n",
            "\u001b[?25h1.0.0\n"
          ]
        }
      ]
    },
    {
      "cell_type": "code",
      "source": [
        "import torch\n",
        "import torchvision\n",
        "import torchvision.transforms as transforms\n",
        "import torch.nn as nn\n",
        "import torch.nn.functional as F\n",
        "import torch.optim as optim\n",
        "import argparse\n",
        "import matplotlib.pyplot as plt\n",
        "import numpy as np"
      ],
      "metadata": {
        "id": "KTjJ6095w46u"
      },
      "execution_count": 2,
      "outputs": []
    },
    {
      "cell_type": "markdown",
      "source": [
        "## 0.1. torchvision\n",
        "\n",
        "- 일반적으로 이미지나 텍스트, 오디오나 비디오 데이터를 다룰 때는 표준 Python 패키지를 이용하여 NumPy 배열로 불러오면 됩니다. 그 후 그 배열을 `torch.*Tensor` 로 변환합니다.\n",
        "\n",
        "- 특별히 영상 분야를 위한 `torchvision` 이라는 패키지가 만들어져 있는데, 여기에는 ImageNet이나 CIFAR10, MNIST 등과 같이 일반적으로 사용하는 데이터셋을 위한 데이터 로더(data loader), 즉 `torchvision.datasets` 과 이미지용 데이터 변환기 (data transformer), 즉 `torch.utils.data.DataLoader` 가 포함되어 있습니다.\n",
        "\n"
      ],
      "metadata": {
        "id": "rkDcUbcIFURj"
      }
    },
    {
      "cell_type": "markdown",
      "source": [
        "# 1. Data Preparation (Load and normalize CIFAR10)\n",
        "\n",
        "* `torchvision`을 사용하여 CIFAR10의 학습용/시험용 데이터셋을 불로오고, 정규화(normalizing) 합니다.\n"
      ],
      "metadata": {
        "id": "obfgRLJkyCr7"
      }
    },
    {
      "cell_type": "code",
      "source": [
        "# transforms.Compose: 데이터를 전처리해주는 패키지\n",
        "transform = transforms.Compose(\n",
        "    # image 파일을 tensor로 transformation을 해줌\n",
        "    [transforms.ToTensor(),\n",
        "     # .ToTensor()로 타입을 변경하면 픽셀 값 하나가 0~1 사이로 scale됨\n",
        "     # transforms.Normalize: 전체 distribution을 0.5 씩 shift 해주고(-0.5 ~ 0.5), 다시 0.5로 나눠줌(-1 ~ 1)\n",
        "     transforms.Normalize((0.5, 0.5, 0.5), (0.5, 0.5, 0.5))])\n",
        "\n",
        "batch_size = 4\n",
        "\n",
        "# CIFAR10 데이터셋을 가져옴\n",
        "trainset = torchvision.datasets.CIFAR10(\n",
        "    root='./data',         # 데이터 저장 위치\n",
        "    train=True,            # True: train set, False: test set\n",
        "    download=True,         # 다운로드 여부, (이미 다운로드 받았으면 False로 지정하면 된다)\n",
        "    transform=transform    # 데이터 전처리 작업\n",
        "  )\n",
        "trainset, valset = torch.utils.data.random_split(trainset, [40000, 10000]) # train set(50000)을 train set(40000), validation set(10000)으로 split\n",
        "testset = torchvision.datasets.CIFAR10(root='./data', train=False,\n",
        "                                     download=True, transform=transform)\n",
        "\n",
        "# torchvision.datasets 의 데이터들을 불러온다\n",
        "trainloader = torch.utils.data.DataLoader(\n",
        "    trainset,              # 불러올 데이터셋\n",
        "    batch_size=batch_size, # batch 단위만큼 데이터를 뽑아옴\n",
        "    shuffle=True,          # 데이터를 shuffle 할 것인지(epoch 마다 데이터셋을 섞어서 데이터가 학습되는 순서를 바꾼다) --> train 시에는 True 로 설정하는 것을 권장\n",
        "    num_workers=2          # 데이터 로딩에 사용하는 subprocess 개수(multi-processing)\n",
        ")\n",
        "valloader = torch.utils.data.DataLoader(valset, batch_size=4, shuffle=False)\n",
        "testloader = torch.utils.data.DataLoader(testset, batch_size=batch_size,\n",
        "                                         shuffle=False, num_workers=2)\n",
        "\n",
        "classes = ('plane', 'car', 'bird', 'cat',\n",
        "           'deer', 'dog', 'frog', 'horse', 'ship', 'truck')"
      ],
      "metadata": {
        "colab": {
          "base_uri": "https://localhost:8080/"
        },
        "id": "6njfHI8sx_JT",
        "outputId": "c8fd92ee-4a31-43d1-fde2-56f3373bae1e"
      },
      "execution_count": null,
      "outputs": [
        {
          "output_type": "stream",
          "name": "stdout",
          "text": [
            "Files already downloaded and verified\n",
            "Files already downloaded and verified\n"
          ]
        }
      ]
    },
    {
      "cell_type": "markdown",
      "source": [
        "### 재미삼아 보는 학습용 이미지"
      ],
      "metadata": {
        "id": "fDpGSQfbhZd2"
      }
    },
    {
      "cell_type": "code",
      "source": [
        "import matplotlib.pyplot as plt\n",
        "import numpy as np\n",
        "\n",
        "# functions to show an image\n",
        "\n",
        "\n",
        "def imshow(img):\n",
        "    img = img / 2 + 0.5     # unnormalize\n",
        "    npimg = img.numpy()\n",
        "    plt.imshow(np.transpose(npimg, (1, 2, 0)))\n",
        "    plt.show()\n",
        "\n",
        "\n",
        "# get some random training images\n",
        "dataiter = iter(trainloader)\n",
        "images, labels = dataiter.next()\n",
        "\n",
        "# show images\n",
        "imshow(torchvision.utils.make_grid(images))\n",
        "# print labels\n",
        "print(' '.join(f'{classes[labels[j]]:5s}' for j in range(batch_size)))\n",
        "\n",
        "print(type(images), images.shape)\n",
        "print(type(labels), labels.shape, labels)\n",
        "\n",
        "classes = ('plane', 'car', 'bird', 'cat',\n",
        "           'deer', 'dog', 'frog', 'horse', 'ship', 'truck')"
      ],
      "metadata": {
        "colab": {
          "base_uri": "https://localhost:8080/",
          "height": 191
        },
        "id": "sXjd7dUIhYjp",
        "outputId": "c0070fb4-742c-4cbd-af66-74d059f91e2e"
      },
      "execution_count": null,
      "outputs": [
        {
          "output_type": "display_data",
          "data": {
            "text/plain": [
              "<Figure size 432x288 with 1 Axes>"
            ],
            "image/png": "[encoded data removed]"
          },
          "metadata": {
            "needs_background": "light"
          }
        },
        {
          "output_type": "stream",
          "name": "stdout",
          "text": [
            "horse deer  cat   cat  \n",
            "<class 'torch.Tensor'> torch.Size([4, 3, 32, 32])\n",
            "<class 'torch.Tensor'> torch.Size([4]) tensor([7, 4, 3, 3])\n"
          ]
        }
      ]
    },
    {
      "cell_type": "markdown",
      "source": [
        "# 2. Define a Convolutional Neural Network\n"
      ],
      "metadata": {
        "id": "AewqLjCaDZU2"
      }
    },
    {
      "cell_type": "code",
      "source": [
        "class MLP(nn.Module):\n",
        "    def __init__(self, in_dim, out_dim, hid_dim, n_layer, act):\n",
        "        super(MLP, self).__init__() \n",
        "        self.in_dim = in_dim\n",
        "        self.out_dim = out_dim\n",
        "        self.hid_dim = hid_dim\n",
        "        self.n_layer = n_layer\n",
        "        self.act = act\n",
        "\n",
        "        self.fc = nn.Linear(self.in_dim, self.hid_dim)\n",
        "        self.linears = nn.ModuleList() # 모듈을 담아주는 리스트(파이토치 프레임워크가 리스트 안에 담긴 것들이 모듈들이라는 것을 인식함)\n",
        "\n",
        "        for i in range(self.n_layer-1):\n",
        "            self.linears.append(nn.Linear(self.hid_dim, self.hid_dim)) # layer 들을 append\n",
        "        # 마지막 layer에 activation function을 통과시키지 않기 위해서 따로 빼줌\n",
        "        self.fc2 = nn.Linear(self.hid_dim, self.out_dim)\n",
        "\n",
        "        # activation function\n",
        "        if self.act == 'relu':\n",
        "            self.act = nn.ReLU() \n",
        " \n",
        "    def forward(self, x):\n",
        "        x = self.act(self.fc(x)) # activation function 을 통과\n",
        "        for fc in self.linears:\n",
        "            x = self.act(fc(x))\n",
        "        x = self.fc2(x) # 마지막 layer\n",
        "        return x # CNN 을 거친 output 값\n",
        "\n",
        "net = MLP(3072, 10, 100, 4, 'relu') # fully connected layers 수가 4인 convolution neural network가 정의됨\n",
        "print(net)"
      ],
      "metadata": {
        "colab": {
          "base_uri": "https://localhost:8080/"
        },
        "id": "3xa8CGW12sY_",
        "outputId": "b692d805-e637-4f1d-e875-f665da6c9708"
      },
      "execution_count": null,
      "outputs": [
        {
          "output_type": "stream",
          "name": "stdout",
          "text": [
            "MLP(\n",
            "  (fc): Linear(in_features=3072, out_features=100, bias=True)\n",
            "  (linears): ModuleList(\n",
            "    (0): Linear(in_features=100, out_features=100, bias=True)\n",
            "    (1): Linear(in_features=100, out_features=100, bias=True)\n",
            "    (2): Linear(in_features=100, out_features=100, bias=True)\n",
            "  )\n",
            "  (fc2): Linear(in_features=100, out_features=10, bias=True)\n",
            "  (act): ReLU()\n",
            ")\n"
          ]
        }
      ]
    },
    {
      "cell_type": "markdown",
      "source": [
        "# 3. Define Experiment\n",
        "\n",
        "* loss function, optimizer 정의\n",
        "* train data를 사용하여 신경망을 학습\n",
        "* validation data 를 사용하여 신경망을 검증\n",
        "* test data를 사용하여 신경망을 검사"
      ],
      "metadata": {
        "id": "zNFuPibBmTDG"
      }
    },
    {
      "cell_type": "code",
      "source": [
        "def experiment(args):\n",
        "  \n",
        "    net = MLP(args.in_dim, args.out_dim, args.hid_dim, args.n_layer, args.act)\n",
        "    net.cuda() # model의 parameter를 GPU에 loading\n",
        "    print(net)\n",
        "\n",
        "    criterion = nn.CrossEntropyLoss() # 손실함수(Cross-Entropy loss)\n",
        "    optimizer = optim.SGD(net.parameters(), lr=args.lr, momentum=args.mm) # Optimizer(momentum 값을 갖는 SGD)\n",
        "    \n",
        "    for epoch in range(args.epoch):  # loop over the dataset multiple times\n",
        "\n",
        "        # ===== Train ===== #\n",
        "        net.train() # model을 train 모드로 전환\n",
        "        \n",
        "        running_loss = 0.0\n",
        "        train_loss = 0.0\n",
        "        for i, data in enumerate(trainloader, 0):\n",
        "            # gradient를 0으로 초기화, Pytorch에서는 gradients값들을 추후에 backward를 해줄때 계속 더해주기 때문\n",
        "            optimizer.zero_grad() \n",
        "\n",
        "            # [inputs, labels]의 목록인 data로부터 입력을 받음\n",
        "            inputs, labels = data\n",
        "\n",
        "            # print(inputs.shape) --> torch.Size([4, 3, 32, 32])\n",
        "            # .view(-1, 3072) --> (4 * 3 * 32 * 32) / 3072 = 4 \n",
        "            inputs = inputs.view(-1, 3072) # reshape 해줌\n",
        "            # print(inputs.shape) --> torch.Size([4, 3072])\n",
        "            \n",
        "            inputs = inputs.cuda()\n",
        "            labels = labels.cuda()\n",
        "\n",
        "            # forward + backward + optimize\n",
        "            outputs = net(inputs)\n",
        "            loss = criterion(outputs, labels)\n",
        "            loss.backward() # gradient 저장\n",
        "            optimizer.step() # gradient 만큼 parameter를 조정\n",
        "\n",
        "            # print statistics\n",
        "            running_loss += loss.item()\n",
        "            train_loss += loss.item()\n",
        "            if i % 2000 == 1999:    # print every 2000 mini-batches\n",
        "                print('[%d, %5d] loss: %.3f' %\n",
        "                      (epoch + 1, i + 1, running_loss / 2000))\n",
        "                running_loss = 0.0\n",
        "                \n",
        "\n",
        "        # ====== Validation ====== #\n",
        "        net.eval()\n",
        "\n",
        "        correct = 0\n",
        "        total = 0\n",
        "        val_loss = 0 \n",
        "        # 학습 중이 아니므로, 출력에 대한 gradient를 계산할 필요가 없음\n",
        "        with torch.no_grad():\n",
        "            for data in valloader:\n",
        "                images, labels = data\n",
        "                images = images.view(-1, 3072) # 크기를 맞춰줘야함\n",
        "                \n",
        "                images = images.cuda()\n",
        "                labels = labels.cuda()\n",
        "\n",
        "                # 신경망에 이미지를 통과시켜 출력을 계산\n",
        "                outputs = net(images)\n",
        "\n",
        "                loss = criterion(outputs, labels) # cross-entropy 를 통해 loss 를 구함\n",
        "                val_loss += loss.item()\n",
        "\n",
        "                # 가장 높은 값(energy)를 갖는 분류(class)를 정답으로 선택\n",
        "                _, predicted = torch.max(outputs.data, 1)\n",
        "                total += labels.size(0) \n",
        "                correct += (predicted == labels).sum().item() \n",
        "\n",
        "            # len(valloader): batch size가 4이기 때문에 10000/4 = 2500\n",
        "            val_loss = val_loss / len(valloader)\n",
        "            val_acc = 100 * correct / total\n",
        "            \n",
        "        print('Epoch {}, Train Loss: {}, Val Loss: {}, Val Acc: {}'.format(epoch, train_loss, val_loss, val_acc ))\n",
        "\n",
        "\n",
        "    # ===== Evaluation ===== #\n",
        "    net.eval()\n",
        "    \n",
        "    correct = 0\n",
        "    total = 0\n",
        "\n",
        "    with torch.no_grad():\n",
        "        for data in testloader:\n",
        "            images, labels = data\n",
        "            # calculate outputs by running images through the network\n",
        "            images = images.view(-1, 3072)\n",
        "            images = images.cuda()\n",
        "            labels = labels.cuda()\n",
        "\n",
        "            outputs = net(images)\n",
        "            \n",
        "            # the class with the highest energy is what we choose as prediction\n",
        "            _, predicted = torch.max(outputs.data, 1)\n",
        "            total += labels.size(0)\n",
        "            correct += (predicted == labels).sum().item()\n",
        "\n",
        "        test_acc = 100 * correct / total\n",
        "            \n",
        "    return train_loss, val_loss, val_acc, test_acc\n",
        "    "
      ],
      "metadata": {
        "id": "7SCJI9HgoyQ3"
      },
      "execution_count": null,
      "outputs": []
    },
    {
      "cell_type": "markdown",
      "source": [
        "# 4. Experiment"
      ],
      "metadata": {
        "id": "8Ci8oAzN6TBk"
      }
    },
    {
      "cell_type": "markdown",
      "source": [
        "## 4.1. seed\n",
        "#### 📌 seed 를 사용해야하는 이유: <br>\n",
        "- hyperparameter 값을 바꿀 때 결과 값을 보면서 값을 조금씩 바꾸는데,\n",
        "만일 seed를 고정해두지 않으면 hyperparameter를 바꾸면서 결과를 모니터링 했을 때 이게 hyperparameter 때문에 바뀐건지 random으로 파라미터가 초기화가 돼서 starting point가 이상한 곳에서 시작해서인건지 두 가지의 영향이 미치기 때문에 어떤 이유 때문에 결과값이 변화한건지 파악하기 힘들다.\n",
        "\n",
        "- 즉, 모델이 random으로 초기화되니까 그걸 같은 지점에서 starting point를 만들어주는 것"
      ],
      "metadata": {
        "id": "aH_IdZsUnsvR"
      }
    },
    {
      "cell_type": "code",
      "source": [
        "# ====== Seed 사용 X ====== #\n",
        "a = np.random.rand()\n",
        "print(a)\n",
        "# 계속 random한 값이 나옴"
      ],
      "metadata": {
        "colab": {
          "base_uri": "https://localhost:8080/"
        },
        "id": "mHWpJ2QmnHzC",
        "outputId": "702010d9-0a06-4ef4-f444-a756eb22cb69"
      },
      "execution_count": 3,
      "outputs": [
        {
          "output_type": "stream",
          "name": "stdout",
          "text": [
            "0.7360975838033684\n"
          ]
        }
      ]
    },
    {
      "cell_type": "code",
      "source": [
        "# ====== Seed 사용 O ====== #\n",
        "seed = 123 # 아무 값이나 넣어도 됨\n",
        "np.random.seed(seed)\n",
        "a = np.random.rand()\n",
        "print(a)"
      ],
      "metadata": {
        "colab": {
          "base_uri": "https://localhost:8080/"
        },
        "id": "cwHRxZwKnTkW",
        "outputId": "c657496f-3d82-45eb-a94d-3e414123c8be"
      },
      "execution_count": null,
      "outputs": [
        {
          "output_type": "stream",
          "name": "stdout",
          "text": [
            "0.6964691855978616\n"
          ]
        }
      ]
    },
    {
      "cell_type": "code",
      "source": [
        "seed = 123\n",
        "np.random.seed(seed)\n",
        "torch.manual_seed(seed) # manual_seed(): pytorch에서 제공하는 random seed를 고정하기 위한 함수\n",
        "\n",
        "parser = argparse.ArgumentParser() # parser 생성\n",
        "args = parser.parse_args(\"\") \n",
        "\n",
        "# hyper parameter set 정의\u001d\n",
        "args.n_layer = 5\n",
        "args.in_dim = 3072\n",
        "args.out_dim = 10\n",
        "args.hid_dim = 100\n",
        "args.act = 'relu'\n",
        "\n",
        "args.lr = 0.001\n",
        "args.mm = 0.9\n",
        "\n",
        "args.epoch = 2\n",
        "\n",
        "list_var1 = [4, 5, 6]\n",
        "list_var2 = [50, 100, 150]\n",
        "\n",
        "for var1 in list_var1:\n",
        "    for var2 in list_var2:\n",
        "        args.n_layer = var1\n",
        "        args.hid_dim = var2\n",
        "        result = experiment(args)\n",
        "        print(result)\n"
      ],
      "metadata": {
        "colab": {
          "base_uri": "https://localhost:8080/"
        },
        "id": "p2PTxjwrjTxO",
        "outputId": "2803c7c0-10fd-429d-fb2d-161f5b24911d"
      },
      "execution_count": null,
      "outputs": [
        {
          "output_type": "stream",
          "name": "stdout",
          "text": [
            "MLP(\n",
            "  (fc): Linear(in_features=3072, out_features=50, bias=True)\n",
            "  (linears): ModuleList(\n",
            "    (0): Linear(in_features=50, out_features=50, bias=True)\n",
            "    (1): Linear(in_features=50, out_features=50, bias=True)\n",
            "    (2): Linear(in_features=50, out_features=50, bias=True)\n",
            "  )\n",
            "  (fc2): Linear(in_features=50, out_features=10, bias=True)\n",
            "  (act): ReLU()\n",
            ")\n",
            "[1,  2000] loss: 2.179\n",
            "[1,  4000] loss: 1.885\n",
            "[1,  6000] loss: 1.770\n",
            "[1,  8000] loss: 1.716\n",
            "[1, 10000] loss: 1.711\n",
            "Epoch 0, Train Loss: 18522.40516498685, Val Loss: 1.6506811730027198, Val Acc: 40.71\n",
            "[2,  2000] loss: 1.626\n",
            "[2,  4000] loss: 1.606\n",
            "[2,  6000] loss: 1.584\n",
            "[2,  8000] loss: 1.595\n",
            "[2, 10000] loss: 1.562\n",
            "Epoch 1, Train Loss: 15947.464552089572, Val Loss: 1.5749206317543984, Val Acc: 43.92\n",
            "(15947.464552089572, 1.5749206317543984, 43.92, 44.21)\n",
            "MLP(\n",
            "  (fc): Linear(in_features=3072, out_features=100, bias=True)\n",
            "  (linears): ModuleList(\n",
            "    (0): Linear(in_features=100, out_features=100, bias=True)\n",
            "    (1): Linear(in_features=100, out_features=100, bias=True)\n",
            "    (2): Linear(in_features=100, out_features=100, bias=True)\n",
            "  )\n",
            "  (fc2): Linear(in_features=100, out_features=10, bias=True)\n",
            "  (act): ReLU()\n",
            ")\n",
            "[1,  2000] loss: 2.210\n",
            "[1,  4000] loss: 1.915\n",
            "[1,  6000] loss: 1.768\n",
            "[1,  8000] loss: 1.707\n",
            "[1, 10000] loss: 1.678\n",
            "Epoch 0, Train Loss: 18555.573521107435, Val Loss: 1.6378203577160835, Val Acc: 40.7\n",
            "[2,  2000] loss: 1.623\n",
            "[2,  4000] loss: 1.578\n",
            "[2,  6000] loss: 1.550\n",
            "[2,  8000] loss: 1.550\n",
            "[2, 10000] loss: 1.510\n",
            "Epoch 1, Train Loss: 15621.309237584472, Val Loss: 1.5082011603832244, Val Acc: 45.73\n",
            "(15621.309237584472, 1.5082011603832244, 45.73, 46.3)\n",
            "MLP(\n",
            "  (fc): Linear(in_features=3072, out_features=150, bias=True)\n",
            "  (linears): ModuleList(\n",
            "    (0): Linear(in_features=150, out_features=150, bias=True)\n",
            "    (1): Linear(in_features=150, out_features=150, bias=True)\n",
            "    (2): Linear(in_features=150, out_features=150, bias=True)\n",
            "  )\n",
            "  (fc2): Linear(in_features=150, out_features=10, bias=True)\n",
            "  (act): ReLU()\n",
            ")\n",
            "[1,  2000] loss: 2.199\n",
            "[1,  4000] loss: 1.887\n",
            "[1,  6000] loss: 1.766\n",
            "[1,  8000] loss: 1.704\n",
            "[1, 10000] loss: 1.642\n",
            "Epoch 0, Train Loss: 18396.694605141878, Val Loss: 1.6112642852187156, Val Acc: 41.51\n",
            "[2,  2000] loss: 1.571\n",
            "[2,  4000] loss: 1.574\n",
            "[2,  6000] loss: 1.544\n",
            "[2,  8000] loss: 1.504\n",
            "[2, 10000] loss: 1.491\n",
            "Epoch 1, Train Loss: 15368.213218927383, Val Loss: 1.4814728585839272, Val Acc: 46.82\n",
            "(15368.213218927383, 1.4814728585839272, 46.82, 47.8)\n",
            "MLP(\n",
            "  (fc): Linear(in_features=3072, out_features=50, bias=True)\n",
            "  (linears): ModuleList(\n",
            "    (0): Linear(in_features=50, out_features=50, bias=True)\n",
            "    (1): Linear(in_features=50, out_features=50, bias=True)\n",
            "    (2): Linear(in_features=50, out_features=50, bias=True)\n",
            "    (3): Linear(in_features=50, out_features=50, bias=True)\n",
            "  )\n",
            "  (fc2): Linear(in_features=50, out_features=10, bias=True)\n",
            "  (act): ReLU()\n",
            ")\n",
            "[1,  2000] loss: 2.287\n",
            "[1,  4000] loss: 2.067\n",
            "[1,  6000] loss: 1.913\n",
            "[1,  8000] loss: 1.843\n",
            "[1, 10000] loss: 1.755\n",
            "Epoch 0, Train Loss: 19731.08650124073, Val Loss: 1.7296890081644059, Val Acc: 35.52\n",
            "[2,  2000] loss: 1.691\n",
            "[2,  4000] loss: 1.676\n",
            "[2,  6000] loss: 1.614\n",
            "[2,  8000] loss: 1.603\n",
            "[2, 10000] loss: 1.594\n",
            "Epoch 1, Train Loss: 16355.027569800615, Val Loss: 1.6020727695345878, Val Acc: 42.14\n",
            "(16355.027569800615, 1.6020727695345878, 42.14, 43.06)\n",
            "MLP(\n",
            "  (fc): Linear(in_features=3072, out_features=100, bias=True)\n",
            "  (linears): ModuleList(\n",
            "    (0): Linear(in_features=100, out_features=100, bias=True)\n",
            "    (1): Linear(in_features=100, out_features=100, bias=True)\n",
            "    (2): Linear(in_features=100, out_features=100, bias=True)\n",
            "    (3): Linear(in_features=100, out_features=100, bias=True)\n",
            "  )\n",
            "  (fc2): Linear(in_features=100, out_features=10, bias=True)\n",
            "  (act): ReLU()\n",
            ")\n",
            "[1,  2000] loss: 2.294\n",
            "[1,  4000] loss: 2.061\n",
            "[1,  6000] loss: 1.908\n",
            "[1,  8000] loss: 1.822\n",
            "[1, 10000] loss: 1.746\n",
            "Epoch 0, Train Loss: 19661.612428724766, Val Loss: 1.7576505345344544, Val Acc: 35.6\n",
            "[2,  2000] loss: 1.667\n",
            "[2,  4000] loss: 1.658\n",
            "[2,  6000] loss: 1.596\n",
            "[2,  8000] loss: 1.592\n",
            "[2, 10000] loss: 1.577\n",
            "Epoch 1, Train Loss: 16179.792405933142, Val Loss: 1.557417738944292, Val Acc: 43.82\n",
            "(16179.792405933142, 1.557417738944292, 43.82, 45.33)\n",
            "MLP(\n",
            "  (fc): Linear(in_features=3072, out_features=150, bias=True)\n",
            "  (linears): ModuleList(\n",
            "    (0): Linear(in_features=150, out_features=150, bias=True)\n",
            "    (1): Linear(in_features=150, out_features=150, bias=True)\n",
            "    (2): Linear(in_features=150, out_features=150, bias=True)\n",
            "    (3): Linear(in_features=150, out_features=150, bias=True)\n",
            "  )\n",
            "  (fc2): Linear(in_features=150, out_features=10, bias=True)\n",
            "  (act): ReLU()\n",
            ")\n",
            "[1,  2000] loss: 2.295\n",
            "[1,  4000] loss: 2.059\n",
            "[1,  6000] loss: 1.912\n",
            "[1,  8000] loss: 1.830\n",
            "[1, 10000] loss: 1.736\n",
            "Epoch 0, Train Loss: 19661.81094175577, Val Loss: 1.687183638548851, Val Acc: 38.46\n",
            "[2,  2000] loss: 1.646\n",
            "[2,  4000] loss: 1.629\n",
            "[2,  6000] loss: 1.597\n",
            "[2,  8000] loss: 1.573\n",
            "[2, 10000] loss: 1.559\n",
            "Epoch 1, Train Loss: 16007.58080202341, Val Loss: 1.5553090803742409, Val Acc: 44.17\n",
            "(16007.58080202341, 1.5553090803742409, 44.17, 45.33)\n",
            "MLP(\n",
            "  (fc): Linear(in_features=3072, out_features=50, bias=True)\n",
            "  (linears): ModuleList(\n",
            "    (0): Linear(in_features=50, out_features=50, bias=True)\n",
            "    (1): Linear(in_features=50, out_features=50, bias=True)\n",
            "    (2): Linear(in_features=50, out_features=50, bias=True)\n",
            "    (3): Linear(in_features=50, out_features=50, bias=True)\n",
            "    (4): Linear(in_features=50, out_features=50, bias=True)\n",
            "  )\n",
            "  (fc2): Linear(in_features=50, out_features=10, bias=True)\n",
            "  (act): ReLU()\n",
            ")\n",
            "[1,  2000] loss: 2.303\n",
            "[1,  4000] loss: 2.292\n",
            "[1,  6000] loss: 2.110\n",
            "[1,  8000] loss: 2.017\n",
            "[1, 10000] loss: 1.909\n",
            "Epoch 0, Train Loss: 21262.513540923595, Val Loss: 1.8834166778802872, Val Acc: 27.38\n",
            "[2,  2000] loss: 1.869\n",
            "[2,  4000] loss: 1.834\n",
            "[2,  6000] loss: 1.790\n",
            "[2,  8000] loss: 1.760\n",
            "[2, 10000] loss: 1.724\n",
            "Epoch 1, Train Loss: 17952.427967131138, Val Loss: 1.7277117810845375, Val Acc: 36.5\n",
            "(17952.427967131138, 1.7277117810845375, 36.5, 37.66)\n",
            "MLP(\n",
            "  (fc): Linear(in_features=3072, out_features=100, bias=True)\n",
            "  (linears): ModuleList(\n",
            "    (0): Linear(in_features=100, out_features=100, bias=True)\n",
            "    (1): Linear(in_features=100, out_features=100, bias=True)\n",
            "    (2): Linear(in_features=100, out_features=100, bias=True)\n",
            "    (3): Linear(in_features=100, out_features=100, bias=True)\n",
            "    (4): Linear(in_features=100, out_features=100, bias=True)\n",
            "  )\n",
            "  (fc2): Linear(in_features=100, out_features=10, bias=True)\n",
            "  (act): ReLU()\n",
            ")\n",
            "[1,  2000] loss: 2.304\n",
            "[1,  4000] loss: 2.301\n",
            "[1,  6000] loss: 2.212\n",
            "[1,  8000] loss: 2.028\n",
            "[1, 10000] loss: 1.906\n",
            "Epoch 0, Train Loss: 21502.332608044147, Val Loss: 1.8568947160243987, Val Acc: 29.37\n",
            "[2,  2000] loss: 1.850\n",
            "[2,  4000] loss: 1.768\n",
            "[2,  6000] loss: 1.720\n",
            "[2,  8000] loss: 1.667\n",
            "[2, 10000] loss: 1.649\n",
            "Epoch 1, Train Loss: 17305.890242516994, Val Loss: 1.618637200295925, Val Acc: 40.43\n",
            "(17305.890242516994, 1.618637200295925, 40.43, 41.74)\n",
            "MLP(\n",
            "  (fc): Linear(in_features=3072, out_features=150, bias=True)\n",
            "  (linears): ModuleList(\n",
            "    (0): Linear(in_features=150, out_features=150, bias=True)\n",
            "    (1): Linear(in_features=150, out_features=150, bias=True)\n",
            "    (2): Linear(in_features=150, out_features=150, bias=True)\n",
            "    (3): Linear(in_features=150, out_features=150, bias=True)\n",
            "    (4): Linear(in_features=150, out_features=150, bias=True)\n",
            "  )\n",
            "  (fc2): Linear(in_features=150, out_features=10, bias=True)\n",
            "  (act): ReLU()\n",
            ")\n",
            "[1,  2000] loss: 2.303\n",
            "[1,  4000] loss: 2.282\n",
            "[1,  6000] loss: 2.079\n",
            "[1,  8000] loss: 1.994\n",
            "[1, 10000] loss: 1.890\n",
            "Epoch 0, Train Loss: 21096.110689640045, Val Loss: 1.8720233176231384, Val Acc: 27.28\n",
            "[2,  2000] loss: 1.836\n",
            "[2,  4000] loss: 1.780\n",
            "[2,  6000] loss: 1.723\n",
            "[2,  8000] loss: 1.668\n",
            "[2, 10000] loss: 1.618\n",
            "Epoch 1, Train Loss: 17250.460029035807, Val Loss: 1.6321996900320053, Val Acc: 40.0\n",
            "(17250.460029035807, 1.6321996900320053, 40.0, 40.74)\n"
          ]
        }
      ]
    },
    {
      "cell_type": "code",
      "source": [
        ""
      ],
      "metadata": {
        "id": "ASDJzfCXnbb8"
      },
      "execution_count": null,
      "outputs": []
    }
  ]
}