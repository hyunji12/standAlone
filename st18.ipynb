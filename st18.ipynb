{
  "nbformat": 4,
  "nbformat_minor": 0,
  "metadata": {
    "colab": {
      "name": "st18.ipynb",
      "provenance": [],
      "collapsed_sections": []
    },
    "kernelspec": {
      "name": "python3",
      "display_name": "Python 3"
    },
    "language_info": {
      "name": "python"
    },
    "accelerator": "GPU",
    "widgets": {
      "application/vnd.jupyter.widget-state+json": {
        "52fb1868a20d45f0865436a4d49cf1c7": {
          "model_module": "@jupyter-widgets/controls",
          "model_name": "HBoxModel",
          "model_module_version": "1.5.0",
          "state": {
            "_dom_classes": [],
            "_model_module": "@jupyter-widgets/controls",
            "_model_module_version": "1.5.0",
            "_model_name": "HBoxModel",
            "_view_count": null,
            "_view_module": "@jupyter-widgets/controls",
            "_view_module_version": "1.5.0",
            "_view_name": "HBoxView",
            "box_style": "",
            "children": [
              "IPY_MODEL_a25f23fc181e4f4e89127d93e62b8b47",
              "IPY_MODEL_7b5f1e787a084235bcb5295d1af794fd",
              "IPY_MODEL_5c038017188f465ca446fb4e688311c7"
            ],
            "layout": "IPY_MODEL_1c50e2a1359141d597b11162ef386831"
          }
        },
        "a25f23fc181e4f4e89127d93e62b8b47": {
          "model_module": "@jupyter-widgets/controls",
          "model_name": "HTMLModel",
          "model_module_version": "1.5.0",
          "state": {
            "_dom_classes": [],
            "_model_module": "@jupyter-widgets/controls",
            "_model_module_version": "1.5.0",
            "_model_name": "HTMLModel",
            "_view_count": null,
            "_view_module": "@jupyter-widgets/controls",
            "_view_module_version": "1.5.0",
            "_view_name": "HTMLView",
            "description": "",
            "description_tooltip": null,
            "layout": "IPY_MODEL_5e3a3a12a59140b3aa248b8624fb9c5b",
            "placeholder": "​",
            "style": "IPY_MODEL_3c5bf8d411f541f2a0024c8091ea6f07",
            "value": ""
          }
        },
        "7b5f1e787a084235bcb5295d1af794fd": {
          "model_module": "@jupyter-widgets/controls",
          "model_name": "FloatProgressModel",
          "model_module_version": "1.5.0",
          "state": {
            "_dom_classes": [],
            "_model_module": "@jupyter-widgets/controls",
            "_model_module_version": "1.5.0",
            "_model_name": "FloatProgressModel",
            "_view_count": null,
            "_view_module": "@jupyter-widgets/controls",
            "_view_module_version": "1.5.0",
            "_view_name": "ProgressView",
            "bar_style": "success",
            "description": "",
            "description_tooltip": null,
            "layout": "IPY_MODEL_cbe1cac4c952457aa2b9d0d5245e8784",
            "max": 170498071,
            "min": 0,
            "orientation": "horizontal",
            "style": "IPY_MODEL_1e4817a23af2401684c091d067a65be0",
            "value": 170498071
          }
        },
        "5c038017188f465ca446fb4e688311c7": {
          "model_module": "@jupyter-widgets/controls",
          "model_name": "HTMLModel",
          "model_module_version": "1.5.0",
          "state": {
            "_dom_classes": [],
            "_model_module": "@jupyter-widgets/controls",
            "_model_module_version": "1.5.0",
            "_model_name": "HTMLModel",
            "_view_count": null,
            "_view_module": "@jupyter-widgets/controls",
            "_view_module_version": "1.5.0",
            "_view_name": "HTMLView",
            "description": "",
            "description_tooltip": null,
            "layout": "IPY_MODEL_f972cd9c81564e1a86a78eca5c2d5193",
            "placeholder": "​",
            "style": "IPY_MODEL_3d2f59965b4647a5bba4944e739516bf",
            "value": " 170499072/? [00:13&lt;00:00, 14201538.10it/s]"
          }
        },
        "1c50e2a1359141d597b11162ef386831": {
          "model_module": "@jupyter-widgets/base",
          "model_name": "LayoutModel",
          "model_module_version": "1.2.0",
          "state": {
            "_model_module": "@jupyter-widgets/base",
            "_model_module_version": "1.2.0",
            "_model_name": "LayoutModel",
            "_view_count": null,
            "_view_module": "@jupyter-widgets/base",
            "_view_module_version": "1.2.0",
            "_view_name": "LayoutView",
            "align_content": null,
            "align_items": null,
            "align_self": null,
            "border": null,
            "bottom": null,
            "display": null,
            "flex": null,
            "flex_flow": null,
            "grid_area": null,
            "grid_auto_columns": null,
            "grid_auto_flow": null,
            "grid_auto_rows": null,
            "grid_column": null,
            "grid_gap": null,
            "grid_row": null,
            "grid_template_areas": null,
            "grid_template_columns": null,
            "grid_template_rows": null,
            "height": null,
            "justify_content": null,
            "justify_items": null,
            "left": null,
            "margin": null,
            "max_height": null,
            "max_width": null,
            "min_height": null,
            "min_width": null,
            "object_fit": null,
            "object_position": null,
            "order": null,
            "overflow": null,
            "overflow_x": null,
            "overflow_y": null,
            "padding": null,
            "right": null,
            "top": null,
            "visibility": null,
            "width": null
          }
        },
        "5e3a3a12a59140b3aa248b8624fb9c5b": {
          "model_module": "@jupyter-widgets/base",
          "model_name": "LayoutModel",
          "model_module_version": "1.2.0",
          "state": {
            "_model_module": "@jupyter-widgets/base",
            "_model_module_version": "1.2.0",
            "_model_name": "LayoutModel",
            "_view_count": null,
            "_view_module": "@jupyter-widgets/base",
            "_view_module_version": "1.2.0",
            "_view_name": "LayoutView",
            "align_content": null,
            "align_items": null,
            "align_self": null,
            "border": null,
            "bottom": null,
            "display": null,
            "flex": null,
            "flex_flow": null,
            "grid_area": null,
            "grid_auto_columns": null,
            "grid_auto_flow": null,
            "grid_auto_rows": null,
            "grid_column": null,
            "grid_gap": null,
            "grid_row": null,
            "grid_template_areas": null,
            "grid_template_columns": null,
            "grid_template_rows": null,
            "height": null,
            "justify_content": null,
            "justify_items": null,
            "left": null,
            "margin": null,
            "max_height": null,
            "max_width": null,
            "min_height": null,
            "min_width": null,
            "object_fit": null,
            "object_position": null,
            "order": null,
            "overflow": null,
            "overflow_x": null,
            "overflow_y": null,
            "padding": null,
            "right": null,
            "top": null,
            "visibility": null,
            "width": null
          }
        },
        "3c5bf8d411f541f2a0024c8091ea6f07": {
          "model_module": "@jupyter-widgets/controls",
          "model_name": "DescriptionStyleModel",
          "model_module_version": "1.5.0",
          "state": {
            "_model_module": "@jupyter-widgets/controls",
            "_model_module_version": "1.5.0",
            "_model_name": "DescriptionStyleModel",
            "_view_count": null,
            "_view_module": "@jupyter-widgets/base",
            "_view_module_version": "1.2.0",
            "_view_name": "StyleView",
            "description_width": ""
          }
        },
        "cbe1cac4c952457aa2b9d0d5245e8784": {
          "model_module": "@jupyter-widgets/base",
          "model_name": "LayoutModel",
          "model_module_version": "1.2.0",
          "state": {
            "_model_module": "@jupyter-widgets/base",
            "_model_module_version": "1.2.0",
            "_model_name": "LayoutModel",
            "_view_count": null,
            "_view_module": "@jupyter-widgets/base",
            "_view_module_version": "1.2.0",
            "_view_name": "LayoutView",
            "align_content": null,
            "align_items": null,
            "align_self": null,
            "border": null,
            "bottom": null,
            "display": null,
            "flex": null,
            "flex_flow": null,
            "grid_area": null,
            "grid_auto_columns": null,
            "grid_auto_flow": null,
            "grid_auto_rows": null,
            "grid_column": null,
            "grid_gap": null,
            "grid_row": null,
            "grid_template_areas": null,
            "grid_template_columns": null,
            "grid_template_rows": null,
            "height": null,
            "justify_content": null,
            "justify_items": null,
            "left": null,
            "margin": null,
            "max_height": null,
            "max_width": null,
            "min_height": null,
            "min_width": null,
            "object_fit": null,
            "object_position": null,
            "order": null,
            "overflow": null,
            "overflow_x": null,
            "overflow_y": null,
            "padding": null,
            "right": null,
            "top": null,
            "visibility": null,
            "width": null
          }
        },
        "1e4817a23af2401684c091d067a65be0": {
          "model_module": "@jupyter-widgets/controls",
          "model_name": "ProgressStyleModel",
          "model_module_version": "1.5.0",
          "state": {
            "_model_module": "@jupyter-widgets/controls",
            "_model_module_version": "1.5.0",
            "_model_name": "ProgressStyleModel",
            "_view_count": null,
            "_view_module": "@jupyter-widgets/base",
            "_view_module_version": "1.2.0",
            "_view_name": "StyleView",
            "bar_color": null,
            "description_width": ""
          }
        },
        "f972cd9c81564e1a86a78eca5c2d5193": {
          "model_module": "@jupyter-widgets/base",
          "model_name": "LayoutModel",
          "model_module_version": "1.2.0",
          "state": {
            "_model_module": "@jupyter-widgets/base",
            "_model_module_version": "1.2.0",
            "_model_name": "LayoutModel",
            "_view_count": null,
            "_view_module": "@jupyter-widgets/base",
            "_view_module_version": "1.2.0",
            "_view_name": "LayoutView",
            "align_content": null,
            "align_items": null,
            "align_self": null,
            "border": null,
            "bottom": null,
            "display": null,
            "flex": null,
            "flex_flow": null,
            "grid_area": null,
            "grid_auto_columns": null,
            "grid_auto_flow": null,
            "grid_auto_rows": null,
            "grid_column": null,
            "grid_gap": null,
            "grid_row": null,
            "grid_template_areas": null,
            "grid_template_columns": null,
            "grid_template_rows": null,
            "height": null,
            "justify_content": null,
            "justify_items": null,
            "left": null,
            "margin": null,
            "max_height": null,
            "max_width": null,
            "min_height": null,
            "min_width": null,
            "object_fit": null,
            "object_position": null,
            "order": null,
            "overflow": null,
            "overflow_x": null,
            "overflow_y": null,
            "padding": null,
            "right": null,
            "top": null,
            "visibility": null,
            "width": null
          }
        },
        "3d2f59965b4647a5bba4944e739516bf": {
          "model_module": "@jupyter-widgets/controls",
          "model_name": "DescriptionStyleModel",
          "model_module_version": "1.5.0",
          "state": {
            "_model_module": "@jupyter-widgets/controls",
            "_model_module_version": "1.5.0",
            "_model_name": "DescriptionStyleModel",
            "_view_count": null,
            "_view_module": "@jupyter-widgets/base",
            "_view_module_version": "1.2.0",
            "_view_name": "StyleView",
            "description_width": ""
          }
        }
      }
    }
  },
  "cells": [
    {
      "cell_type": "markdown",
      "source": [
        "### 간단한 실습"
      ],
      "metadata": {
        "id": "QGwSQ8jZSwQ8"
      }
    },
    {
      "cell_type": "code",
      "execution_count": null,
      "metadata": {
        "colab": {
          "base_uri": "https://localhost:8080/"
        },
        "id": "epfT-d3kNlvo",
        "outputId": "0cb7a484-5681-4b21-b9b1-df9bd904a506"
      },
      "outputs": [
        {
          "output_type": "stream",
          "name": "stdout",
          "text": [
            "{'value1': 5, 'value2': 10, 'seq': [1, 2, 3, 4, 5]}\n"
          ]
        }
      ],
      "source": [
        "import json\n",
        "a = {'value1':5, 'value2':10, 'seq':[1,2,3,4,5]}\n",
        "\n",
        "filename = 'test.json'\n",
        "with open(filename, 'w') as f:\n",
        "  json.dump(a, f)\n",
        "\n",
        "with open(filename, 'r') as f:\n",
        "  result = json.load(f)\n",
        "  print(result)"
      ]
    },
    {
      "cell_type": "code",
      "source": [
        "!ls\n",
        "!cat test.json"
      ],
      "metadata": {
        "colab": {
          "base_uri": "https://localhost:8080/"
        },
        "id": "NDsFE9jQOoml",
        "outputId": "37f1a13e-7329-4eaa-d166-fc322bbcbf99"
      },
      "execution_count": null,
      "outputs": [
        {
          "output_type": "stream",
          "name": "stdout",
          "text": [
            "result\tsample_data  test.json\n",
            "{\"value1\": 5, \"value2\": 10, \"seq\": [1, 2, 3, 4, 5]}"
          ]
        }
      ]
    },
    {
      "cell_type": "code",
      "source": [
        "import hashlib\n",
        "\n",
        "setting = {'value1':6, 'value2':10, 'seq':[1,2,3,4,5], 'exp_name':'exp1'}\n",
        "exp_name = setting['exp_name']\n",
        "hash_key = hashlib.sha1(str(setting).encode()).hexdigest()[:6]\n",
        "filename = '{}-{}.json'.format(exp_name, hash_key)\n",
        "\n",
        "print(filename)"
      ],
      "metadata": {
        "colab": {
          "base_uri": "https://localhost:8080/"
        },
        "id": "5cxEBzRlP5PE",
        "outputId": "55f3a70d-bb42-48ee-d488-6ff6b139366c"
      },
      "execution_count": null,
      "outputs": [
        {
          "output_type": "stream",
          "name": "stdout",
          "text": [
            "exp1-91fb1f.json\n"
          ]
        }
      ]
    },
    {
      "cell_type": "code",
      "source": [
        "!mkdir results\n",
        "!ls\n",
        "!ls results"
      ],
      "metadata": {
        "colab": {
          "base_uri": "https://localhost:8080/"
        },
        "id": "IXd6AbLvSrgm",
        "outputId": "604d8fd6-1814-43fe-8f4f-1f342d47dd3a"
      },
      "execution_count": null,
      "outputs": [
        {
          "output_type": "stream",
          "name": "stdout",
          "text": [
            "mkdir: cannot create directory ‘results’: File exists\n",
            "result\tresults  sample_data  test.json\n"
          ]
        }
      ]
    },
    {
      "cell_type": "code",
      "source": [
        "import torch\n",
        "import torchvision\n",
        "import torchvision.transforms as transforms\n",
        "import torch.nn as nn\n",
        "import torch.nn.functional as F\n",
        "import torch.optim as optim\n",
        "import argparse\n",
        "import numpy as np\n",
        "import time\n",
        "from copy import deepcopy # Add Deepcopy for args"
      ],
      "metadata": {
        "id": "_IOj2EvpS2iX"
      },
      "execution_count": null,
      "outputs": []
    },
    {
      "cell_type": "markdown",
      "source": [
        "## Data Preparation"
      ],
      "metadata": {
        "id": "ytbvRDyqTLJH"
      }
    },
    {
      "cell_type": "code",
      "source": [
        "transform = transforms.Compose(\n",
        "    [transforms.ToTensor(),\n",
        "     transforms.Normalize((0.5, 0.5, 0.5), (0.5, 0.5, 0.5))])\n",
        "\n",
        "trainset = torchvision.datasets.CIFAR10(root='./data', train=True,\n",
        "                                        download=True, transform=transform)\n",
        "trainset, valset = torch.utils.data.random_split(trainset, [40000, 10000])\n",
        "testset = torchvision.datasets.CIFAR10(root='./data', train=False,\n",
        "                                       download=True, transform=transform)\n",
        "partition = {'train': trainset, 'val':valset, 'test':testset}"
      ],
      "metadata": {
        "colab": {
          "base_uri": "https://localhost:8080/",
          "height": 101,
          "referenced_widgets": [
            "52fb1868a20d45f0865436a4d49cf1c7",
            "a25f23fc181e4f4e89127d93e62b8b47",
            "7b5f1e787a084235bcb5295d1af794fd",
            "5c038017188f465ca446fb4e688311c7",
            "1c50e2a1359141d597b11162ef386831",
            "5e3a3a12a59140b3aa248b8624fb9c5b",
            "3c5bf8d411f541f2a0024c8091ea6f07",
            "cbe1cac4c952457aa2b9d0d5245e8784",
            "1e4817a23af2401684c091d067a65be0",
            "f972cd9c81564e1a86a78eca5c2d5193",
            "3d2f59965b4647a5bba4944e739516bf"
          ]
        },
        "id": "yCCVo6qVS5WX",
        "outputId": "26c4105a-3064-44b9-a8f4-51e6620cb02f"
      },
      "execution_count": null,
      "outputs": [
        {
          "output_type": "stream",
          "name": "stdout",
          "text": [
            "Downloading https://www.cs.toronto.edu/~kriz/cifar-10-python.tar.gz to ./data/cifar-10-python.tar.gz\n"
          ]
        },
        {
          "output_type": "display_data",
          "data": {
            "text/plain": [
              "  0%|          | 0/170498071 [00:00<?, ?it/s]"
            ],
            "application/vnd.jupyter.widget-view+json": {
              "version_major": 2,
              "version_minor": 0,
              "model_id": "52fb1868a20d45f0865436a4d49cf1c7"
            }
          },
          "metadata": {}
        },
        {
          "output_type": "stream",
          "name": "stdout",
          "text": [
            "Extracting ./data/cifar-10-python.tar.gz to ./data\n",
            "Files already downloaded and verified\n"
          ]
        }
      ]
    },
    {
      "cell_type": "markdown",
      "source": [
        "## Model Architecture"
      ],
      "metadata": {
        "id": "IGsrdLoUUCDH"
      }
    },
    {
      "cell_type": "code",
      "source": [
        "class MLP(nn.Module):\n",
        "    def __init__(self, in_dim, out_dim, hid_dim, n_layer, act, dropout, use_bn, use_xavier):\n",
        "        super(MLP, self).__init__()\n",
        "        self.in_dim = in_dim\n",
        "        self.out_dim = out_dim\n",
        "        self.hid_dim = hid_dim\n",
        "        self.n_layer = n_layer\n",
        "        self.act = act\n",
        "        self.dropout = dropout\n",
        "        self.use_bn = use_bn\n",
        "        self.use_xavier = use_xavier\n",
        "        \n",
        "        # ====== Create Linear Layers ====== #\n",
        "        self.fc1 = nn.Linear(self.in_dim, self.hid_dim)\n",
        "        \n",
        "        self.linears = nn.ModuleList()\n",
        "        self.bns = nn.ModuleList()\n",
        "        for i in range(self.n_layer-1):\n",
        "            self.linears.append(nn.Linear(self.hid_dim, self.hid_dim))\n",
        "            if self.use_bn:\n",
        "                self.bns.append(nn.BatchNorm1d(self.hid_dim))\n",
        "                \n",
        "        self.fc2 = nn.Linear(self.hid_dim, self.out_dim)\n",
        "        \n",
        "        # ====== Create Activation Function ====== #\n",
        "        if self.act == 'relu':\n",
        "            self.act = nn.ReLU()\n",
        "        elif self.act == 'tanh':\n",
        "            self.act == nn.Tanh()\n",
        "        elif self.act == 'sigmoid':\n",
        "            self.act = nn.Sigmoid()\n",
        "        else:\n",
        "            raise ValueError('no valid activation function selected!')\n",
        "        \n",
        "        # ====== Create Regularization Layer ======= #\n",
        "        self.dropout = nn.Dropout(self.dropout)\n",
        "        if self.use_xavier:\n",
        "            self.xavier_init()\n",
        "          \n",
        "    def forward(self, x):\n",
        "        x = self.act(self.fc1(x))\n",
        "        for i in range(len(self.linears)):\n",
        "            x = self.act(self.linears[i](x))\n",
        "            x = self.bns[i](x)\n",
        "            x = self.dropout(x)\n",
        "        x = self.fc2(x)\n",
        "        return x\n",
        "    \n",
        "    def xavier_init(self):\n",
        "        for linear in self.linears:\n",
        "            nn.init.xavier_normal_(linear.weight)\n",
        "            linear.bias.data.fill_(0.01)\n",
        "            \n",
        "net = MLP(3072, 10, 100, 4, 'relu', 0.1, True, True) # Testing Model Construction"
      ],
      "metadata": {
        "id": "Mq8t1WxJT9pR"
      },
      "execution_count": null,
      "outputs": []
    },
    {
      "cell_type": "markdown",
      "source": [
        "## Train, Validate, Test and Experiment\n"
      ],
      "metadata": {
        "id": "dMIW29D9UWGJ"
      }
    },
    {
      "cell_type": "code",
      "source": [
        "def train(net, partition, optimizer, criterion, args):\n",
        "    trainloader = torch.utils.data.DataLoader(partition['train'], \n",
        "                                              batch_size=args.train_batch_size, \n",
        "                                              shuffle=True, num_workers=2)\n",
        "    net.train()\n",
        "\n",
        "    correct = 0\n",
        "    total = 0\n",
        "    train_loss = 0.0\n",
        "    for i, data in enumerate(trainloader, 0):\n",
        "        optimizer.zero_grad() # [21.01.05 오류 수정] 매 Epoch 마다 .zero_grad()가 실행되는 것을 매 iteration 마다 실행되도록 수정했습니다. \n",
        "\n",
        "        # get the inputs\n",
        "        inputs, labels = data\n",
        "        inputs = inputs.view(-1, 3072)\n",
        "        inputs = inputs.cuda()\n",
        "        labels = labels.cuda()\n",
        "        outputs = net(inputs)\n",
        "\n",
        "        loss = criterion(outputs, labels)\n",
        "        loss.backward()\n",
        "        optimizer.step()\n",
        "\n",
        "        train_loss += loss.item()\n",
        "        _, predicted = torch.max(outputs.data, 1)\n",
        "        total += labels.size(0)\n",
        "        correct += (predicted == labels).sum().item()\n",
        "\n",
        "    train_loss = train_loss / len(trainloader)\n",
        "    train_acc = 100 * correct / total\n",
        "    return net, train_loss, train_acc"
      ],
      "metadata": {
        "id": "4vAghvsQUL8h"
      },
      "execution_count": null,
      "outputs": []
    },
    {
      "cell_type": "code",
      "source": [
        "def validate(net, partition, criterion, args):\n",
        "    valloader = torch.utils.data.DataLoader(partition['val'], \n",
        "                                            batch_size=args.test_batch_size, \n",
        "                                            shuffle=False, num_workers=2)\n",
        "    net.eval()\n",
        "\n",
        "    correct = 0\n",
        "    total = 0\n",
        "    val_loss = 0 \n",
        "    with torch.no_grad():\n",
        "        for data in valloader:\n",
        "            images, labels = data\n",
        "            images = images.view(-1, 3072)\n",
        "            images = images.cuda()\n",
        "            labels = labels.cuda()\n",
        "            outputs = net(images)\n",
        "\n",
        "            loss = criterion(outputs, labels)\n",
        "            \n",
        "            val_loss += loss.item()\n",
        "            _, predicted = torch.max(outputs.data, 1)\n",
        "            total += labels.size(0)\n",
        "            correct += (predicted == labels).sum().item()\n",
        "\n",
        "        val_loss = val_loss / len(valloader)\n",
        "        val_acc = 100 * correct / total\n",
        "    return val_loss, val_acc"
      ],
      "metadata": {
        "id": "u07YBABvUel4"
      },
      "execution_count": null,
      "outputs": []
    },
    {
      "cell_type": "code",
      "source": [
        "def test(net, partition, args):\n",
        "    testloader = torch.utils.data.DataLoader(partition['test'], \n",
        "                                             batch_size=args.test_batch_size, \n",
        "                                             shuffle=False, num_workers=2)\n",
        "    net.eval()\n",
        "    \n",
        "    correct = 0\n",
        "    total = 0\n",
        "    with torch.no_grad():\n",
        "        for data in testloader:\n",
        "            images, labels = data\n",
        "            images = images.view(-1, 3072)\n",
        "            images = images.cuda()\n",
        "            labels = labels.cuda()\n",
        "\n",
        "            outputs = net(images)\n",
        "            _, predicted = torch.max(outputs.data, 1)\n",
        "            total += labels.size(0)\n",
        "            correct += (predicted == labels).sum().item()\n",
        "\n",
        "        test_acc = 100 * correct / total\n",
        "    return test_acc"
      ],
      "metadata": {
        "id": "aOR1Srk1UfC7"
      },
      "execution_count": null,
      "outputs": []
    },
    {
      "cell_type": "code",
      "source": [
        "def experiment(partition, args):\n",
        "  \n",
        "    net = MLP(args.in_dim, args.out_dim, args.hid_dim, args.n_layer, args.act, args.dropout, args.use_bn, args.use_xavier)\n",
        "    net.cuda()\n",
        "\n",
        "    criterion = nn.CrossEntropyLoss()\n",
        "    if args.optim == 'SGD':\n",
        "        optimizer = optim.RMSprop(net.parameters(), lr=args.lr, weight_decay=args.l2)\n",
        "    elif args.optim == 'RMSprop':\n",
        "        optimizer = optim.RMSprop(net.parameters(), lr=args.lr, weight_decay=args.l2)\n",
        "    elif args.optim == 'Adam':\n",
        "        optimizer = optim.Adam(net.parameters(), lr=args.lr, weight_decay=args.l2)\n",
        "    else:\n",
        "        raise ValueError('In-valid optimizer choice')\n",
        "    \n",
        "    # ===== List for epoch-wise data ====== #\n",
        "    train_losses = []\n",
        "    val_losses = []\n",
        "    train_accs = []\n",
        "    val_accs = []\n",
        "    # ===================================== #\n",
        "        \n",
        "    for epoch in range(args.epoch):  # loop over the dataset multiple times\n",
        "        ts = time.time()\n",
        "        net, train_loss, train_acc = train(net, partition, optimizer, criterion, args)\n",
        "        val_loss, val_acc = validate(net, partition, criterion, args)\n",
        "        te = time.time()\n",
        "        \n",
        "        # ====== Add Epoch Data ====== #\n",
        "        train_losses.append(train_loss)\n",
        "        val_losses.append(val_loss)\n",
        "        train_accs.append(train_acc)\n",
        "        val_accs.append(val_acc)\n",
        "        # ============================ #\n",
        "        \n",
        "        print('Epoch {}, Acc(train/val): {:2.2f}/{:2.2f}, Loss(train/val) {:2.2f}/{:2.2f}. Took {:2.2f} sec'.format(epoch, train_acc, val_acc, train_loss, val_loss, te-ts))\n",
        "        \n",
        "    test_acc = test(net, partition, args)    \n",
        "    \n",
        "    # ======= Add Result to Dictionary ======= #\n",
        "    result = {}\n",
        "    result['train_losses'] = train_losses\n",
        "    result['val_losses'] = val_losses\n",
        "    result['train_accs'] = train_accs\n",
        "    result['val_accs'] = val_accs\n",
        "    result['train_acc'] = train_acc\n",
        "    result['val_acc'] = val_acc\n",
        "    result['test_acc'] = test_acc\n",
        "    return vars(args), result\n",
        "    # ===================================== #"
      ],
      "metadata": {
        "id": "EfwiYQ0vUiBW"
      },
      "execution_count": null,
      "outputs": []
    },
    {
      "cell_type": "markdown",
      "source": [
        "# Manage Experiment Result"
      ],
      "metadata": {
        "id": "YHbyPZNiUrcG"
      }
    },
    {
      "cell_type": "code",
      "source": [
        "import hashlib\n",
        "import json\n",
        "from os import listdir\n",
        "from os.path import isfile, join\n",
        "import pandas as pd\n",
        "\n",
        "def save_exp_result(setting, result):\n",
        "    exp_name = setting['exp_name']\n",
        "\n",
        "    # epoch 항목을 지우는 이유: 같은 setting 이어도 epoch 값이 바뀌면 파일이 따로 생성되는 문제를 해결하기 위해\n",
        "    # test_batch_size 항목을 지우는 이유 역시 동일(이 값이 달라져도 파일이 따로 생성되지 않기를 바라기 때문)\n",
        "    del setting['epoch']\n",
        "    del setting['test_batch_size']\n",
        "\n",
        "    hash_key = hashlib.sha1(str(setting).encode()).hexdigest()[:6]\n",
        "    filename = './results/{}-{}.json'.format(exp_name, hash_key)\n",
        "\n",
        "    # 실험 결과 뿐만 아니라 실험 setting 도 저장해줘야하기 때문에(result += setting) -> 딕셔너리끼리 합쳐줌\n",
        "    result.update(setting)\n",
        "    with open(filename, 'w') as f:\n",
        "        json.dump(result, f)\n",
        "\n",
        "    \n",
        "def load_exp_result(exp_name):\n",
        "    dir_path = './results'\n",
        "    filenames = [f for f in listdir(dir_path) if isfile(join(dir_path, f)) if '.json' in f]\n",
        "    list_result = []\n",
        "    for filename in filenames:\n",
        "        if exp_name in filename:\n",
        "            with open(join(dir_path, filename), 'r') as infile:\n",
        "                results = json.load(infile)\n",
        "                list_result.append(results)\n",
        "    df = pd.DataFrame(list_result) # .drop(columns=[])\n",
        "    return df"
      ],
      "metadata": {
        "id": "ZKIrCGCmUnbe"
      },
      "execution_count": null,
      "outputs": []
    },
    {
      "cell_type": "markdown",
      "source": [
        "## Experiment"
      ],
      "metadata": {
        "id": "wlpEUCqVU3Sf"
      }
    },
    {
      "cell_type": "code",
      "source": [
        "# ====== Random Seed Initialization ====== #\n",
        "seed = 123\n",
        "np.random.seed(seed)\n",
        "torch.manual_seed(seed)\n",
        "\n",
        "parser = argparse.ArgumentParser()\n",
        "args = parser.parse_args(\"\")\n",
        "args.exp_name = \"exp1_n_layer_hid_dim\"\n",
        "\n",
        "# ====== Model Capacity ====== #\n",
        "args.in_dim = 3072\n",
        "args.out_dim = 10\n",
        "args.hid_dim = 100\n",
        "args.act = 'relu'\n",
        "\n",
        "# ====== Regularization ======= #\n",
        "args.dropout = 0.2\n",
        "args.use_bn = True\n",
        "args.l2 = 0.00001\n",
        "args.use_xavier = True\n",
        "\n",
        "# ====== Optimizer & Training ====== #\n",
        "args.optim = 'RMSprop' #'RMSprop' #SGD, RMSprop, ADAM...\n",
        "args.lr = 0.0015\n",
        "args.epoch = 10\n",
        "\n",
        "args.train_batch_size = 256\n",
        "args.test_batch_size = 1024\n",
        "\n",
        "# ====== Experiment Variable ====== #\n",
        "name_var1 = 'n_layer'\n",
        "name_var2 = 'hid_dim'\n",
        "list_var1 = [1, 2, 3]\n",
        "list_var2 = [500, 300]\n",
        "\n",
        "\n",
        "for var1 in list_var1:\n",
        "    for var2 in list_var2:\n",
        "        setattr(args, name_var1, var1) # (== args.name_var1 = var1)\n",
        "        setattr(args, name_var2, var2) \n",
        "        print(args)\n",
        "                \n",
        "        setting, result = experiment(partition, deepcopy(args))\n",
        "        save_exp_result(setting, result)\n"
      ],
      "metadata": {
        "colab": {
          "base_uri": "https://localhost:8080/"
        },
        "id": "Tr4UHJ4xU1WB",
        "outputId": "6d17f28c-1884-4214-cff4-ea76f02d868f"
      },
      "execution_count": null,
      "outputs": [
        {
          "output_type": "stream",
          "name": "stdout",
          "text": [
            "Namespace(act='relu', dropout=0.2, epoch=10, exp_name='exp1_n_layer_hid_dim', hid_dim=500, in_dim=3072, l2=1e-05, lr=0.0015, n_layer=1, optim='RMSprop', out_dim=10, test_batch_size=1024, train_batch_size=256, use_bn=True, use_xavier=True)\n",
            "Epoch 0, Acc(train/val): 38.00/39.07, Loss(train/val) 2.41/1.81. Took 9.95 sec\n",
            "Epoch 1, Acc(train/val): 45.94/41.58, Loss(train/val) 1.56/1.74. Took 8.68 sec\n",
            "Epoch 2, Acc(train/val): 48.63/41.20, Loss(train/val) 1.49/1.85. Took 8.32 sec\n",
            "Epoch 3, Acc(train/val): 50.92/42.48, Loss(train/val) 1.44/1.77. Took 8.44 sec\n",
            "Epoch 4, Acc(train/val): 52.78/45.87, Loss(train/val) 1.38/1.63. Took 8.26 sec\n",
            "Epoch 5, Acc(train/val): 54.88/45.24, Loss(train/val) 1.33/1.69. Took 8.37 sec\n",
            "Epoch 6, Acc(train/val): 56.57/31.37, Loss(train/val) 1.28/3.13. Took 8.43 sec\n",
            "Epoch 7, Acc(train/val): 58.18/46.77, Loss(train/val) 1.23/1.72. Took 8.44 sec\n",
            "Epoch 8, Acc(train/val): 59.56/43.81, Loss(train/val) 1.20/1.99. Took 8.93 sec\n",
            "Epoch 9, Acc(train/val): 61.77/42.66, Loss(train/val) 1.14/2.06. Took 9.12 sec\n",
            "Namespace(act='relu', dropout=0.2, epoch=10, exp_name='exp1_n_layer_hid_dim', hid_dim=300, in_dim=3072, l2=1e-05, lr=0.0015, n_layer=1, optim='RMSprop', out_dim=10, test_batch_size=1024, train_batch_size=256, use_bn=True, use_xavier=True)\n",
            "Epoch 0, Acc(train/val): 38.54/39.64, Loss(train/val) 2.17/1.74. Took 8.42 sec\n",
            "Epoch 1, Acc(train/val): 46.67/42.52, Loss(train/val) 1.54/1.70. Took 8.37 sec\n",
            "Epoch 2, Acc(train/val): 49.65/39.47, Loss(train/val) 1.46/1.85. Took 8.52 sec\n",
            "Epoch 3, Acc(train/val): 51.38/42.99, Loss(train/val) 1.40/1.76. Took 8.52 sec\n",
            "Epoch 4, Acc(train/val): 53.93/38.90, Loss(train/val) 1.34/1.99. Took 8.49 sec\n",
            "Epoch 5, Acc(train/val): 55.59/44.46, Loss(train/val) 1.29/1.66. Took 8.45 sec\n",
            "Epoch 6, Acc(train/val): 57.33/44.25, Loss(train/val) 1.24/1.77. Took 8.41 sec\n",
            "Epoch 7, Acc(train/val): 58.91/43.55, Loss(train/val) 1.20/1.87. Took 8.35 sec\n",
            "Epoch 8, Acc(train/val): 60.63/44.04, Loss(train/val) 1.17/2.14. Took 8.43 sec\n",
            "Epoch 9, Acc(train/val): 61.90/42.49, Loss(train/val) 1.13/1.85. Took 8.41 sec\n",
            "Namespace(act='relu', dropout=0.2, epoch=10, exp_name='exp1_n_layer_hid_dim', hid_dim=500, in_dim=3072, l2=1e-05, lr=0.0015, n_layer=2, optim='RMSprop', out_dim=10, test_batch_size=1024, train_batch_size=256, use_bn=True, use_xavier=True)\n",
            "Epoch 0, Acc(train/val): 37.15/37.05, Loss(train/val) 1.80/1.82. Took 8.62 sec\n",
            "Epoch 1, Acc(train/val): 45.31/42.11, Loss(train/val) 1.54/1.66. Took 8.63 sec\n",
            "Epoch 2, Acc(train/val): 48.99/45.13, Loss(train/val) 1.44/1.57. Took 8.57 sec\n",
            "Epoch 3, Acc(train/val): 51.95/41.51, Loss(train/val) 1.36/1.86. Took 8.61 sec\n",
            "Epoch 4, Acc(train/val): 54.63/49.38, Loss(train/val) 1.28/1.45. Took 8.53 sec\n",
            "Epoch 5, Acc(train/val): 56.02/45.67, Loss(train/val) 1.23/1.63. Took 8.54 sec\n",
            "Epoch 6, Acc(train/val): 58.60/49.46, Loss(train/val) 1.17/1.47. Took 8.55 sec\n",
            "Epoch 7, Acc(train/val): 61.04/48.59, Loss(train/val) 1.11/1.60. Took 8.58 sec\n",
            "Epoch 8, Acc(train/val): 62.76/49.93, Loss(train/val) 1.06/1.51. Took 8.51 sec\n",
            "Epoch 9, Acc(train/val): 64.81/47.29, Loss(train/val) 1.00/1.83. Took 8.49 sec\n",
            "Namespace(act='relu', dropout=0.2, epoch=10, exp_name='exp1_n_layer_hid_dim', hid_dim=300, in_dim=3072, l2=1e-05, lr=0.0015, n_layer=2, optim='RMSprop', out_dim=10, test_batch_size=1024, train_batch_size=256, use_bn=True, use_xavier=True)\n",
            "Epoch 0, Acc(train/val): 37.37/36.35, Loss(train/val) 1.76/1.78. Took 8.52 sec\n",
            "Epoch 1, Acc(train/val): 46.00/41.35, Loss(train/val) 1.52/1.75. Took 8.52 sec\n",
            "Epoch 2, Acc(train/val): 49.37/46.51, Loss(train/val) 1.43/1.55. Took 8.54 sec\n",
            "Epoch 3, Acc(train/val): 52.34/48.20, Loss(train/val) 1.35/1.47. Took 8.50 sec\n",
            "Epoch 4, Acc(train/val): 54.65/49.08, Loss(train/val) 1.28/1.45. Took 8.51 sec\n",
            "Epoch 5, Acc(train/val): 56.74/48.78, Loss(train/val) 1.22/1.47. Took 8.45 sec\n",
            "Epoch 6, Acc(train/val): 58.74/50.43, Loss(train/val) 1.17/1.43. Took 8.49 sec\n",
            "Epoch 7, Acc(train/val): 60.30/50.65, Loss(train/val) 1.12/1.44. Took 8.42 sec\n",
            "Epoch 8, Acc(train/val): 62.34/49.56, Loss(train/val) 1.07/1.50. Took 8.54 sec\n",
            "Epoch 9, Acc(train/val): 63.88/50.64, Loss(train/val) 1.02/1.46. Took 8.53 sec\n",
            "Namespace(act='relu', dropout=0.2, epoch=10, exp_name='exp1_n_layer_hid_dim', hid_dim=500, in_dim=3072, l2=1e-05, lr=0.0015, n_layer=3, optim='RMSprop', out_dim=10, test_batch_size=1024, train_batch_size=256, use_bn=True, use_xavier=True)\n",
            "Epoch 0, Acc(train/val): 34.78/37.04, Loss(train/val) 1.86/1.80. Took 8.63 sec\n",
            "Epoch 1, Acc(train/val): 44.95/42.91, Loss(train/val) 1.54/1.78. Took 8.62 sec\n",
            "Epoch 2, Acc(train/val): 49.42/42.98, Loss(train/val) 1.42/1.64. Took 8.80 sec\n",
            "Epoch 3, Acc(train/val): 52.49/42.21, Loss(train/val) 1.33/1.77. Took 8.67 sec\n",
            "Epoch 4, Acc(train/val): 55.05/46.80, Loss(train/val) 1.26/1.52. Took 8.69 sec\n",
            "Epoch 5, Acc(train/val): 57.76/49.95, Loss(train/val) 1.19/1.44. Took 8.57 sec\n",
            "Epoch 6, Acc(train/val): 59.40/49.70, Loss(train/val) 1.13/1.43. Took 8.59 sec\n",
            "Epoch 7, Acc(train/val): 61.85/48.73, Loss(train/val) 1.07/1.59. Took 8.53 sec\n",
            "Epoch 8, Acc(train/val): 63.64/50.22, Loss(train/val) 1.01/1.50. Took 8.53 sec\n",
            "Epoch 9, Acc(train/val): 65.80/52.75, Loss(train/val) 0.95/1.43. Took 8.48 sec\n",
            "Namespace(act='relu', dropout=0.2, epoch=10, exp_name='exp1_n_layer_hid_dim', hid_dim=300, in_dim=3072, l2=1e-05, lr=0.0015, n_layer=3, optim='RMSprop', out_dim=10, test_batch_size=1024, train_batch_size=256, use_bn=True, use_xavier=True)\n",
            "Epoch 0, Acc(train/val): 36.92/36.24, Loss(train/val) 1.78/1.79. Took 8.68 sec\n",
            "Epoch 1, Acc(train/val): 45.96/44.28, Loss(train/val) 1.51/1.55. Took 8.60 sec\n",
            "Epoch 2, Acc(train/val): 49.43/44.94, Loss(train/val) 1.41/1.58. Took 8.54 sec\n",
            "Epoch 3, Acc(train/val): 52.34/47.15, Loss(train/val) 1.33/1.49. Took 8.64 sec\n",
            "Epoch 4, Acc(train/val): 55.02/45.92, Loss(train/val) 1.25/1.57. Took 8.57 sec\n",
            "Epoch 5, Acc(train/val): 57.30/45.42, Loss(train/val) 1.20/1.55. Took 8.43 sec\n",
            "Epoch 6, Acc(train/val): 59.31/49.07, Loss(train/val) 1.14/1.48. Took 8.57 sec\n",
            "Epoch 7, Acc(train/val): 61.16/50.35, Loss(train/val) 1.09/1.44. Took 8.62 sec\n",
            "Epoch 8, Acc(train/val): 62.60/52.82, Loss(train/val) 1.04/1.41. Took 8.60 sec\n",
            "Epoch 9, Acc(train/val): 64.61/51.65, Loss(train/val) 0.99/1.47. Took 8.57 sec\n"
          ]
        }
      ]
    },
    {
      "cell_type": "code",
      "source": [
        "!ls results"
      ],
      "metadata": {
        "colab": {
          "base_uri": "https://localhost:8080/"
        },
        "id": "QoX9UZH5ZfKW",
        "outputId": "66d061fe-4240-4d3b-a795-b5ca074a5277"
      },
      "execution_count": null,
      "outputs": [
        {
          "output_type": "stream",
          "name": "stdout",
          "text": [
            "exp1_n_layer_hid_dim-41b634.json  exp1_n_layer_hid_dim-bfc899.json\n",
            "exp1_n_layer_hid_dim-61a2d0.json  exp1_n_layer_hid_dim-cab8c1.json\n",
            "exp1_n_layer_hid_dim-7b70fe.json  exp1_n_layer_hid_dim-dece45.json\n"
          ]
        }
      ]
    },
    {
      "cell_type": "code",
      "source": [
        "print(type(load_exp_result('exp1')))"
      ],
      "metadata": {
        "colab": {
          "base_uri": "https://localhost:8080/"
        },
        "id": "pWmcwL1jbGUD",
        "outputId": "c86ddec6-16fc-41de-b0f0-ca2171f1dc08"
      },
      "execution_count": null,
      "outputs": [
        {
          "output_type": "stream",
          "name": "stdout",
          "text": [
            "<class 'pandas.core.frame.DataFrame'>\n"
          ]
        }
      ]
    },
    {
      "cell_type": "code",
      "source": [
        "import seaborn as sns \n",
        "import matplotlib.pyplot as plt\n",
        "\n",
        "df = load_exp_result('exp1')\n",
        "\n",
        "fig, ax = plt.subplots(1, 3)\n",
        "fig.set_size_inches(15, 6)\n",
        "sns.set_style(\"darkgrid\", {\"axes.facecolor\": \".9\"})\n",
        "\n",
        "sns.barplot(x='n_layer', y='train_acc', hue='hid_dim', data=df, ax=ax[0])\n",
        "sns.barplot(x='n_layer', y='val_acc', hue='hid_dim', data=df, ax=ax[1])\n",
        "sns.barplot(x='n_layer', y='test_acc', hue='hid_dim', data=df, ax=ax[2])"
      ],
      "metadata": {
        "colab": {
          "base_uri": "https://localhost:8080/",
          "height": 406
        },
        "id": "TvvuF8S1U6xa",
        "outputId": "cc8da0a6-cb58-47d8-b776-7210840ed85a"
      },
      "execution_count": null,
      "outputs": [
        {
          "output_type": "execute_result",
          "data": {
            "text/plain": [
              "<matplotlib.axes._subplots.AxesSubplot at 0x7f3ae75d2c10>"
            ]
          },
          "metadata": {},
          "execution_count": 27
        },
        {
          "output_type": "display_data",
          "data": {
            "text/plain": [
              "<Figure size 1080x432 with 3 Axes>"
            ],
            "image/png": "[encoded data removed]"
          },
          "metadata": {
            "needs_background": "light"
          }
        }
      ]
    },
    {
      "cell_type": "code",
      "source": [
        "var1 = 'n_layer'\n",
        "var2 = 'hid_dim'\n",
        "\n",
        "df = load_exp_result('exp1')\n",
        "list_v1 = df[var1].unique() # n_layer의 column 만 가져옴, .unique(): distinct한 값(set 으로 만들어줌)\n",
        "list_v2 = df[var2].unique()\n",
        "print(list_v1, list_v2)\n",
        "list_data = []\n",
        "\n",
        "for value1 in list_v1:\n",
        "    for value2 in list_v2:\n",
        "        # ex. var1 == 1, var2 == 500인 데이터들만 filter\n",
        "        row = df.loc[df[var1]==value1]\n",
        "        row = row.loc[df[var2]==value2]\n",
        "        # print(value1, value2, row)\n",
        "        \n",
        "        train_losses = list(row.train_losses)[0]\n",
        "        val_losses = list(row.val_losses)[0]\n",
        "        \n",
        "        for epoch, train_loss in enumerate(train_losses):\n",
        "            list_data.append({'type':'train', 'loss':train_loss, 'epoch':epoch, var1:value1, var2:value2})\n",
        "        for epoch, val_loss in enumerate(val_losses):\n",
        "            list_data.append({'type':'val', 'loss':val_loss, 'epoch':epoch, var1:value1, var2:value2})\n",
        "        \n",
        "df = pd.DataFrame(list_data)\n",
        "g = sns.FacetGrid(df, row=var2, col=var1, hue='type', margin_titles=True, sharey=False)\n",
        "g = g.map(plt.plot, 'epoch', 'loss', marker='.') # g.map() --> 각각의 subplot 으로 그려달라는 의미\n",
        "g.add_legend()\n",
        "g.fig.suptitle('Train loss vs Val loss')\n",
        "plt.subplots_adjust(top=0.89)"
      ],
      "metadata": {
        "colab": {
          "base_uri": "https://localhost:8080/",
          "height": 460
        },
        "id": "-TIUcEP2XDzL",
        "outputId": "068d4635-43da-407a-9aff-6702c3a17922"
      },
      "execution_count": null,
      "outputs": [
        {
          "output_type": "stream",
          "name": "stdout",
          "text": [
            "[1 3 2] [500 300]\n"
          ]
        },
        {
          "output_type": "display_data",
          "data": {
            "text/plain": [
              "<Figure size 707.375x432 with 6 Axes>"
            ],
            "image/png": "[encoded data removed]"
          },
          "metadata": {}
        }
      ]
    },
    {
      "cell_type": "code",
      "source": [
        "var1 = 'n_layer'\n",
        "var2 = 'hid_dim'\n",
        "\n",
        "df = load_exp_result('exp1')\n",
        "list_v1 = df[var1].unique()\n",
        "list_v2 = df[var2].unique()\n",
        "list_data = []\n",
        "\n",
        "for value1 in list_v1:\n",
        "    for value2 in list_v2:\n",
        "        row = df.loc[df[var1]==value1]\n",
        "        row = row.loc[df[var2]==value2]\n",
        "        \n",
        "        train_accs = list(row.train_accs)[0]\n",
        "        val_accs = list(row.val_accs)[0]\n",
        "        test_acc = list(row.test_acc)[0]\n",
        "        \n",
        "        for epoch, train_acc in enumerate(train_accs):\n",
        "            list_data.append({'type':'train', 'Acc':train_acc, 'test_acc':test_acc, 'epoch':epoch, var1:value1, var2:value2})\n",
        "        for epoch, val_acc in enumerate(val_accs):\n",
        "            list_data.append({'type':'val', 'Acc':val_acc, 'test_acc':test_acc, 'epoch':epoch, var1:value1, var2:value2})\n",
        "        \n",
        "df = pd.DataFrame(list_data)\n",
        "g = sns.FacetGrid(df, row=var2, col=var1, hue='type', margin_titles=True, sharey=False)\n",
        "g = g.map(plt.plot, 'epoch', 'Acc', marker='.')\n",
        "\n",
        "def show_acc(x, y, metric, **kwargs):\n",
        "    plt.scatter(x, y, alpha=0.3, s=1)\n",
        "    metric = \"Test Acc: {:1.3f}\".format(list(metric.values)[0])\n",
        "    plt.text(0.05, 0.95, metric,  horizontalalignment='left', verticalalignment='center', transform=plt.gca().transAxes, bbox=dict(facecolor='yellow', alpha=0.5, boxstyle=\"round,pad=0.1\"))\n",
        "g = g.map(show_acc, 'epoch', 'Acc', 'test_acc')\n",
        "\n",
        "g.add_legend()\n",
        "g.fig.suptitle('Train Accuracy vs Val Accuracy')\n",
        "\n",
        "\n",
        "\n",
        "plt.subplots_adjust(top=0.89)"
      ],
      "metadata": {
        "colab": {
          "base_uri": "https://localhost:8080/",
          "height": 443
        },
        "id": "q7MPWiZhXGdW",
        "outputId": "c3211f3d-beac-4109-d457-e49674030f52"
      },
      "execution_count": null,
      "outputs": [
        {
          "output_type": "display_data",
          "data": {
            "text/plain": [
              "<Figure size 707.375x432 with 6 Axes>"
            ],
            "image/png": "[encoded data removed]"
          },
          "metadata": {}
        }
      ]
    },
    {
      "cell_type": "markdown",
      "source": [
        "## Experiment2"
      ],
      "metadata": {
        "id": "Zy-eCtT0k4JL"
      }
    },
    {
      "cell_type": "code",
      "source": [
        "# ====== Random Seed Initialization ====== #\n",
        "seed = 123\n",
        "np.random.seed(seed)\n",
        "torch.manual_seed(seed)\n",
        "\n",
        "parser = argparse.ArgumentParser()\n",
        "args = parser.parse_args(\"\")\n",
        "args.exp_name = \"exp2_lr_dropout\"\n",
        "\n",
        "# ====== Model Capacity ====== #\n",
        "args.n_layer = 3\n",
        "args.in_dim = 3072\n",
        "args.out_dim = 10\n",
        "args.hid_dim = 300\n",
        "args.act = 'relu'\n",
        "\n",
        "# ====== Regularization ======= #\n",
        "# args.dropout = 0.2\n",
        "args.use_bn = True\n",
        "args.l2 = 0.00001\n",
        "args.use_xavier = True\n",
        "\n",
        "# ====== Optimizer & Training ====== #\n",
        "args.optim = 'RMSprop' #'RMSprop' #SGD, RMSprop, ADAM...\n",
        "# args.lr = 0.0015\n",
        "args.epoch = 10\n",
        "\n",
        "args.train_batch_size = 256\n",
        "args.test_batch_size = 1024\n",
        "\n",
        "# ====== Experiment Variable ====== #\n",
        "name_var1 = 'lr'\n",
        "name_var2 = 'dropout'\n",
        "list_var1 = [0.0005, 0.001, 0.005]\n",
        "list_var2 = [0, 0.1, 0.2]\n",
        "\n",
        "\n",
        "for var1 in list_var1:\n",
        "    for var2 in list_var2:\n",
        "        setattr(args, name_var1, var1) # (== args.name_var1 = var1)\n",
        "        setattr(args, name_var2, var2) \n",
        "        print(args)\n",
        "                \n",
        "        setting, result = experiment(partition, deepcopy(args))\n",
        "        save_exp_result(setting, result)\n"
      ],
      "metadata": {
        "colab": {
          "base_uri": "https://localhost:8080/"
        },
        "id": "VqaHAcZiXJ7v",
        "outputId": "5b72481a-6384-4c66-c06d-2cef098c5f04"
      },
      "execution_count": null,
      "outputs": [
        {
          "output_type": "stream",
          "name": "stdout",
          "text": [
            "Namespace(act='relu', dropout=0, epoch=10, exp_name='exp2_lr_dropout', hid_dim=300, in_dim=3072, l2=1e-05, lr=0.0005, n_layer=3, optim='RMSprop', out_dim=10, test_batch_size=1024, train_batch_size=256, use_bn=True, use_xavier=True)\n",
            "Epoch 0, Acc(train/val): 40.60/41.48, Loss(train/val) 1.66/1.62. Took 9.16 sec\n",
            "Epoch 1, Acc(train/val): 49.66/44.41, Loss(train/val) 1.41/1.63. Took 8.50 sec\n",
            "Epoch 2, Acc(train/val): 54.50/46.40, Loss(train/val) 1.29/1.54. Took 8.52 sec\n",
            "Epoch 3, Acc(train/val): 58.00/46.09, Loss(train/val) 1.18/1.68. Took 8.72 sec\n",
            "Epoch 4, Acc(train/val): 61.08/48.79, Loss(train/val) 1.10/1.54. Took 8.61 sec\n",
            "Epoch 5, Acc(train/val): 64.43/47.57, Loss(train/val) 1.01/1.57. Took 8.60 sec\n",
            "Epoch 6, Acc(train/val): 67.36/52.10, Loss(train/val) 0.93/1.41. Took 8.63 sec\n",
            "Epoch 7, Acc(train/val): 70.18/50.22, Loss(train/val) 0.85/1.57. Took 8.47 sec\n",
            "Epoch 8, Acc(train/val): 72.89/49.02, Loss(train/val) 0.77/1.67. Took 8.60 sec\n",
            "Epoch 9, Acc(train/val): 75.42/47.76, Loss(train/val) 0.71/1.77. Took 8.51 sec\n",
            "Namespace(act='relu', dropout=0.1, epoch=10, exp_name='exp2_lr_dropout', hid_dim=300, in_dim=3072, l2=1e-05, lr=0.0005, n_layer=3, optim='RMSprop', out_dim=10, test_batch_size=1024, train_batch_size=256, use_bn=True, use_xavier=True)\n",
            "Epoch 0, Acc(train/val): 39.95/42.54, Loss(train/val) 1.68/1.62. Took 8.74 sec\n",
            "Epoch 1, Acc(train/val): 48.58/47.90, Loss(train/val) 1.44/1.46. Took 8.68 sec\n",
            "Epoch 2, Acc(train/val): 52.76/48.34, Loss(train/val) 1.33/1.46. Took 8.48 sec\n",
            "Epoch 3, Acc(train/val): 55.91/48.59, Loss(train/val) 1.24/1.44. Took 8.79 sec\n",
            "Epoch 4, Acc(train/val): 58.76/50.26, Loss(train/val) 1.17/1.41. Took 8.65 sec\n",
            "Epoch 5, Acc(train/val): 60.93/49.04, Loss(train/val) 1.10/1.45. Took 8.55 sec\n",
            "Epoch 6, Acc(train/val): 62.98/51.71, Loss(train/val) 1.04/1.40. Took 8.47 sec\n",
            "Epoch 7, Acc(train/val): 65.30/51.99, Loss(train/val) 0.98/1.38. Took 8.76 sec\n",
            "Epoch 8, Acc(train/val): 67.40/51.30, Loss(train/val) 0.92/1.45. Took 8.59 sec\n",
            "Epoch 9, Acc(train/val): 69.26/50.10, Loss(train/val) 0.86/1.50. Took 8.34 sec\n",
            "Namespace(act='relu', dropout=0.2, epoch=10, exp_name='exp2_lr_dropout', hid_dim=300, in_dim=3072, l2=1e-05, lr=0.0005, n_layer=3, optim='RMSprop', out_dim=10, test_batch_size=1024, train_batch_size=256, use_bn=True, use_xavier=True)\n",
            "Epoch 0, Acc(train/val): 38.83/36.76, Loss(train/val) 1.71/1.90. Took 8.58 sec\n",
            "Epoch 1, Acc(train/val): 46.94/44.01, Loss(train/val) 1.49/1.58. Took 8.45 sec\n",
            "Epoch 2, Acc(train/val): 50.73/48.03, Loss(train/val) 1.38/1.45. Took 8.53 sec\n",
            "Epoch 3, Acc(train/val): 53.59/48.03, Loss(train/val) 1.31/1.46. Took 8.71 sec\n",
            "Epoch 4, Acc(train/val): 55.64/48.13, Loss(train/val) 1.24/1.47. Took 8.63 sec\n",
            "Epoch 5, Acc(train/val): 58.18/51.03, Loss(train/val) 1.18/1.37. Took 8.39 sec\n",
            "Epoch 6, Acc(train/val): 59.67/49.69, Loss(train/val) 1.13/1.48. Took 8.50 sec\n",
            "Epoch 7, Acc(train/val): 61.58/50.73, Loss(train/val) 1.08/1.40. Took 8.49 sec\n",
            "Epoch 8, Acc(train/val): 63.24/51.45, Loss(train/val) 1.02/1.40. Took 8.72 sec\n",
            "Epoch 9, Acc(train/val): 64.77/52.83, Loss(train/val) 0.98/1.40. Took 8.67 sec\n",
            "Namespace(act='relu', dropout=0, epoch=10, exp_name='exp2_lr_dropout', hid_dim=300, in_dim=3072, l2=1e-05, lr=0.001, n_layer=3, optim='RMSprop', out_dim=10, test_batch_size=1024, train_batch_size=256, use_bn=True, use_xavier=True)\n",
            "Epoch 0, Acc(train/val): 38.76/39.07, Loss(train/val) 1.71/1.73. Took 8.52 sec\n",
            "Epoch 1, Acc(train/val): 48.58/44.31, Loss(train/val) 1.44/1.58. Took 8.57 sec\n",
            "Epoch 2, Acc(train/val): 53.08/41.16, Loss(train/val) 1.32/1.73. Took 8.58 sec\n",
            "Epoch 3, Acc(train/val): 56.64/48.87, Loss(train/val) 1.22/1.47. Took 8.53 sec\n",
            "Epoch 4, Acc(train/val): 59.73/46.67, Loss(train/val) 1.13/1.58. Took 8.47 sec\n",
            "Epoch 5, Acc(train/val): 62.45/46.49, Loss(train/val) 1.05/1.56. Took 8.65 sec\n",
            "Epoch 6, Acc(train/val): 65.41/50.57, Loss(train/val) 0.97/1.48. Took 8.40 sec\n",
            "Epoch 7, Acc(train/val): 68.56/49.22, Loss(train/val) 0.89/1.62. Took 8.56 sec\n",
            "Epoch 8, Acc(train/val): 71.27/43.73, Loss(train/val) 0.81/1.99. Took 8.57 sec\n",
            "Epoch 9, Acc(train/val): 74.01/50.46, Loss(train/val) 0.74/1.63. Took 8.45 sec\n",
            "Namespace(act='relu', dropout=0.1, epoch=10, exp_name='exp2_lr_dropout', hid_dim=300, in_dim=3072, l2=1e-05, lr=0.001, n_layer=3, optim='RMSprop', out_dim=10, test_batch_size=1024, train_batch_size=256, use_bn=True, use_xavier=True)\n",
            "Epoch 0, Acc(train/val): 38.69/36.00, Loss(train/val) 1.72/1.84. Took 8.41 sec\n",
            "Epoch 1, Acc(train/val): 47.91/44.13, Loss(train/val) 1.46/1.61. Took 8.50 sec\n",
            "Epoch 2, Acc(train/val): 51.85/41.23, Loss(train/val) 1.35/1.70. Took 8.59 sec\n",
            "Epoch 3, Acc(train/val): 54.74/45.75, Loss(train/val) 1.27/1.60. Took 8.56 sec\n",
            "Epoch 4, Acc(train/val): 57.74/48.20, Loss(train/val) 1.19/1.52. Took 8.52 sec\n",
            "Epoch 5, Acc(train/val): 60.37/50.18, Loss(train/val) 1.12/1.44. Took 8.59 sec\n",
            "Epoch 6, Acc(train/val): 62.67/47.74, Loss(train/val) 1.05/1.59. Took 8.55 sec\n",
            "Epoch 7, Acc(train/val): 65.00/50.47, Loss(train/val) 0.98/1.49. Took 8.55 sec\n",
            "Epoch 8, Acc(train/val): 67.14/50.47, Loss(train/val) 0.92/1.56. Took 8.42 sec\n",
            "Epoch 9, Acc(train/val): 68.91/51.13, Loss(train/val) 0.87/1.52. Took 8.42 sec\n",
            "Namespace(act='relu', dropout=0.2, epoch=10, exp_name='exp2_lr_dropout', hid_dim=300, in_dim=3072, l2=1e-05, lr=0.001, n_layer=3, optim='RMSprop', out_dim=10, test_batch_size=1024, train_batch_size=256, use_bn=True, use_xavier=True)\n",
            "Epoch 0, Acc(train/val): 37.88/38.63, Loss(train/val) 1.74/1.75. Took 8.56 sec\n",
            "Epoch 1, Acc(train/val): 46.75/43.77, Loss(train/val) 1.49/1.56. Took 8.48 sec\n",
            "Epoch 2, Acc(train/val): 50.05/44.97, Loss(train/val) 1.39/1.59. Took 8.56 sec\n",
            "Epoch 3, Acc(train/val): 53.38/48.47, Loss(train/val) 1.31/1.43. Took 8.18 sec\n",
            "Epoch 4, Acc(train/val): 55.74/46.39, Loss(train/val) 1.25/1.56. Took 8.37 sec\n",
            "Epoch 5, Acc(train/val): 57.88/48.74, Loss(train/val) 1.18/1.51. Took 8.48 sec\n",
            "Epoch 6, Acc(train/val): 59.77/49.25, Loss(train/val) 1.13/1.48. Took 8.45 sec\n",
            "Epoch 7, Acc(train/val): 61.64/47.53, Loss(train/val) 1.08/1.66. Took 8.81 sec\n",
            "Epoch 8, Acc(train/val): 63.62/48.80, Loss(train/val) 1.03/1.54. Took 8.66 sec\n",
            "Epoch 9, Acc(train/val): 65.12/51.47, Loss(train/val) 0.98/1.45. Took 8.63 sec\n",
            "Namespace(act='relu', dropout=0, epoch=10, exp_name='exp2_lr_dropout', hid_dim=300, in_dim=3072, l2=1e-05, lr=0.005, n_layer=3, optim='RMSprop', out_dim=10, test_batch_size=1024, train_batch_size=256, use_bn=True, use_xavier=True)\n",
            "Epoch 0, Acc(train/val): 31.82/31.22, Loss(train/val) 2.04/2.02. Took 8.62 sec\n",
            "Epoch 1, Acc(train/val): 42.37/39.96, Loss(train/val) 1.61/1.77. Took 8.67 sec\n",
            "Epoch 2, Acc(train/val): 47.44/39.64, Loss(train/val) 1.46/1.76. Took 8.34 sec\n",
            "Epoch 3, Acc(train/val): 51.05/42.98, Loss(train/val) 1.37/1.60. Took 8.53 sec\n",
            "Epoch 4, Acc(train/val): 53.90/44.73, Loss(train/val) 1.28/1.65. Took 8.47 sec\n",
            "Epoch 5, Acc(train/val): 56.37/45.41, Loss(train/val) 1.22/1.63. Took 8.57 sec\n",
            "Epoch 6, Acc(train/val): 58.77/45.10, Loss(train/val) 1.16/1.60. Took 8.42 sec\n",
            "Epoch 7, Acc(train/val): 60.64/49.04, Loss(train/val) 1.10/1.53. Took 8.56 sec\n",
            "Epoch 8, Acc(train/val): 62.89/44.19, Loss(train/val) 1.03/1.80. Took 8.38 sec\n",
            "Epoch 9, Acc(train/val): 64.35/50.08, Loss(train/val) 0.99/1.56. Took 8.30 sec\n",
            "Namespace(act='relu', dropout=0.1, epoch=10, exp_name='exp2_lr_dropout', hid_dim=300, in_dim=3072, l2=1e-05, lr=0.005, n_layer=3, optim='RMSprop', out_dim=10, test_batch_size=1024, train_batch_size=256, use_bn=True, use_xavier=True)\n",
            "Epoch 0, Acc(train/val): 32.57/32.88, Loss(train/val) 1.99/1.90. Took 8.42 sec\n",
            "Epoch 1, Acc(train/val): 42.28/37.16, Loss(train/val) 1.60/1.82. Took 8.32 sec\n",
            "Epoch 2, Acc(train/val): 46.72/37.27, Loss(train/val) 1.48/1.75. Took 8.41 sec\n",
            "Epoch 3, Acc(train/val): 50.18/44.39, Loss(train/val) 1.39/1.65. Took 8.26 sec\n",
            "Epoch 4, Acc(train/val): 52.64/44.18, Loss(train/val) 1.32/1.64. Took 8.35 sec\n",
            "Epoch 5, Acc(train/val): 54.72/46.99, Loss(train/val) 1.27/1.53. Took 8.26 sec\n",
            "Epoch 6, Acc(train/val): 56.68/46.18, Loss(train/val) 1.21/1.53. Took 8.34 sec\n",
            "Epoch 7, Acc(train/val): 58.73/44.77, Loss(train/val) 1.16/1.59. Took 8.37 sec\n",
            "Epoch 8, Acc(train/val): 60.35/47.18, Loss(train/val) 1.11/1.59. Took 8.43 sec\n",
            "Epoch 9, Acc(train/val): 62.09/47.55, Loss(train/val) 1.07/1.54. Took 8.28 sec\n",
            "Namespace(act='relu', dropout=0.2, epoch=10, exp_name='exp2_lr_dropout', hid_dim=300, in_dim=3072, l2=1e-05, lr=0.005, n_layer=3, optim='RMSprop', out_dim=10, test_batch_size=1024, train_batch_size=256, use_bn=True, use_xavier=True)\n",
            "Epoch 0, Acc(train/val): 32.34/36.26, Loss(train/val) 1.99/1.77. Took 8.21 sec\n",
            "Epoch 1, Acc(train/val): 42.07/34.66, Loss(train/val) 1.61/2.03. Took 8.30 sec\n",
            "Epoch 2, Acc(train/val): 46.68/43.12, Loss(train/val) 1.49/1.59. Took 8.43 sec\n",
            "Epoch 3, Acc(train/val): 49.19/45.52, Loss(train/val) 1.42/1.59. Took 8.39 sec\n",
            "Epoch 4, Acc(train/val): 51.14/33.71, Loss(train/val) 1.37/35.94. Took 8.27 sec\n",
            "Epoch 5, Acc(train/val): 52.79/47.03, Loss(train/val) 1.32/1.52. Took 8.41 sec\n",
            "Epoch 6, Acc(train/val): 54.88/46.02, Loss(train/val) 1.26/1.63. Took 8.42 sec\n",
            "Epoch 7, Acc(train/val): 56.24/48.36, Loss(train/val) 1.22/1.48. Took 8.39 sec\n",
            "Epoch 8, Acc(train/val): 57.79/48.64, Loss(train/val) 1.18/1.46. Took 8.43 sec\n",
            "Epoch 9, Acc(train/val): 59.62/49.90, Loss(train/val) 1.14/1.44. Took 8.47 sec\n"
          ]
        }
      ]
    }
  ]
}